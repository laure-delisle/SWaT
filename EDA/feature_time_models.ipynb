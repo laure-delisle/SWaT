{
 "cells": [
  {
   "cell_type": "code",
   "execution_count": 1,
   "metadata": {},
   "outputs": [
    {
     "name": "stdout",
     "output_type": "stream",
     "text": [
      "Opening /home/raz/store.h5 in read-only mode\n",
      "52 Continuous Features \n",
      " ['Timestamp', 'FIT101', 'LIT101', 'MV101', 'P101', 'P102', 'AIT201', 'AIT202', 'AIT203', 'FIT201', 'MV201', 'P201', 'P202', 'P203', 'P204', 'P205', 'P206', 'DPIT301', 'FIT301', 'LIT301', 'MV301', 'MV302', 'MV303', 'MV304', 'P301', 'P302', 'AIT401', 'AIT402', 'FIT401', 'LIT401', 'P401', 'P402', 'P403', 'P404', 'UV401', 'AIT501', 'AIT502', 'AIT503', 'AIT504', 'FIT501', 'FIT502', 'FIT503', 'FIT504', 'P501', 'P502', 'PIT501', 'PIT502', 'PIT503', 'FIT601', 'P601', 'P602', 'P603']\n",
      "\n",
      " \n",
      "\n",
      "1 Categorical features \n",
      "\n",
      "\n",
      " ['EVENT']\n",
      "\n",
      " \n",
      "\n",
      "51 Upadated List of Continuous Features \n",
      " ['FIT101', 'LIT101', 'MV101', 'P101', 'P102', 'AIT201', 'AIT202', 'AIT203', 'FIT201', 'MV201', 'P201', 'P202', 'P203', 'P204', 'P205', 'P206', 'DPIT301', 'FIT301', 'LIT301', 'MV301', 'MV302', 'MV303', 'MV304', 'P301', 'P302', 'AIT401', 'AIT402', 'FIT401', 'LIT401', 'P401', 'P402', 'P403', 'P404', 'UV401', 'AIT501', 'AIT502', 'AIT503', 'AIT504', 'FIT501', 'FIT502', 'FIT503', 'FIT504', 'P501', 'P502', 'PIT501', 'PIT502', 'PIT503', 'FIT601', 'P601', 'P602', 'P603']\n",
      "\n",
      " \n",
      "\n"
     ]
    }
   ],
   "source": [
    "from pandas import HDFStore,DataFrame\n",
    "import pandas as pd\n",
    "\n",
    "store = HDFStore('/home/raz/store.h5')\n",
    "\n",
    "pdata = pd.read_hdf(store)\n",
    "pdata = pdata.sort_values('Timestamp')\n",
    "\n",
    "catFeatures = []\n",
    "NumFeatures = []\n",
    "for col,x in pdata.iloc[1,:].iteritems():\n",
    "    if(not str(x).isalpha()):\n",
    "        NumFeatures.append(col)\n",
    "    else:\n",
    "        catFeatures.append(col)\n",
    "print(len(NumFeatures), \"Continuous Features \\n\", NumFeatures)\n",
    "print(\"\\n \\n\")\n",
    "print(len(catFeatures), \"Categorical features \\n\\n\\n\", catFeatures)\n",
    "\n",
    "\n",
    "NumFeatures.remove(\"Timestamp\")\n",
    "print(\"\\n \\n\")\n",
    "\n",
    "print(len(NumFeatures), \"Upadated List of Continuous Features \\n\", NumFeatures)\n",
    "print(\"\\n \\n\")"
   ]
  },
  {
   "cell_type": "code",
   "execution_count": 2,
   "metadata": {
    "collapsed": true
   },
   "outputs": [],
   "source": [
    "store.close()"
   ]
  },
  {
   "cell_type": "code",
   "execution_count": 3,
   "metadata": {
    "collapsed": true
   },
   "outputs": [],
   "source": [
    "pdata['hod'] = pdata['Timestamp'].dt.hour"
   ]
  },
  {
   "cell_type": "code",
   "execution_count": 4,
   "metadata": {
    "collapsed": true
   },
   "outputs": [],
   "source": [
    "import numpy as np \n",
    "import matplotlib.pyplot as plt\n",
    "import seaborn as sns\n",
    "color = sns.color_palette()\n",
    "%matplotlib inline\n",
    "pd.options.mode.chained_assignment = None"
   ]
  },
  {
   "cell_type": "code",
   "execution_count": 5,
   "metadata": {
    "collapsed": true
   },
   "outputs": [],
   "source": [
    "bool_cols = [col for col in pdata \n",
    "             if pdata[[col]].dropna().isin([0, 1]).all().values]"
   ]
  },
  {
   "cell_type": "code",
   "execution_count": 6,
   "metadata": {},
   "outputs": [
    {
     "data": {
      "text/html": [
       "<div>\n",
       "<style>\n",
       "    .dataframe thead tr:only-child th {\n",
       "        text-align: right;\n",
       "    }\n",
       "\n",
       "    .dataframe thead th {\n",
       "        text-align: left;\n",
       "    }\n",
       "\n",
       "    .dataframe tbody tr th {\n",
       "        vertical-align: top;\n",
       "    }\n",
       "</style>\n",
       "<table border=\"1\" class=\"dataframe\">\n",
       "  <thead>\n",
       "    <tr style=\"text-align: right;\">\n",
       "      <th></th>\n",
       "      <th>P202</th>\n",
       "      <th>P401</th>\n",
       "      <th>P404</th>\n",
       "      <th>P502</th>\n",
       "      <th>P601</th>\n",
       "      <th>P603</th>\n",
       "    </tr>\n",
       "  </thead>\n",
       "  <tbody>\n",
       "    <tr>\n",
       "      <th>count</th>\n",
       "      <td>946719.0</td>\n",
       "      <td>946719.0</td>\n",
       "      <td>946719.0</td>\n",
       "      <td>946719.0</td>\n",
       "      <td>946719.0</td>\n",
       "      <td>946719.0</td>\n",
       "    </tr>\n",
       "    <tr>\n",
       "      <th>mean</th>\n",
       "      <td>1.0</td>\n",
       "      <td>1.0</td>\n",
       "      <td>1.0</td>\n",
       "      <td>1.0</td>\n",
       "      <td>1.0</td>\n",
       "      <td>1.0</td>\n",
       "    </tr>\n",
       "    <tr>\n",
       "      <th>std</th>\n",
       "      <td>0.0</td>\n",
       "      <td>0.0</td>\n",
       "      <td>0.0</td>\n",
       "      <td>0.0</td>\n",
       "      <td>0.0</td>\n",
       "      <td>0.0</td>\n",
       "    </tr>\n",
       "    <tr>\n",
       "      <th>min</th>\n",
       "      <td>1.0</td>\n",
       "      <td>1.0</td>\n",
       "      <td>1.0</td>\n",
       "      <td>1.0</td>\n",
       "      <td>1.0</td>\n",
       "      <td>1.0</td>\n",
       "    </tr>\n",
       "    <tr>\n",
       "      <th>25%</th>\n",
       "      <td>1.0</td>\n",
       "      <td>1.0</td>\n",
       "      <td>1.0</td>\n",
       "      <td>1.0</td>\n",
       "      <td>1.0</td>\n",
       "      <td>1.0</td>\n",
       "    </tr>\n",
       "    <tr>\n",
       "      <th>50%</th>\n",
       "      <td>1.0</td>\n",
       "      <td>1.0</td>\n",
       "      <td>1.0</td>\n",
       "      <td>1.0</td>\n",
       "      <td>1.0</td>\n",
       "      <td>1.0</td>\n",
       "    </tr>\n",
       "    <tr>\n",
       "      <th>75%</th>\n",
       "      <td>1.0</td>\n",
       "      <td>1.0</td>\n",
       "      <td>1.0</td>\n",
       "      <td>1.0</td>\n",
       "      <td>1.0</td>\n",
       "      <td>1.0</td>\n",
       "    </tr>\n",
       "    <tr>\n",
       "      <th>max</th>\n",
       "      <td>1.0</td>\n",
       "      <td>1.0</td>\n",
       "      <td>1.0</td>\n",
       "      <td>1.0</td>\n",
       "      <td>1.0</td>\n",
       "      <td>1.0</td>\n",
       "    </tr>\n",
       "  </tbody>\n",
       "</table>\n",
       "</div>"
      ],
      "text/plain": [
       "           P202      P401      P404      P502      P601      P603\n",
       "count  946719.0  946719.0  946719.0  946719.0  946719.0  946719.0\n",
       "mean        1.0       1.0       1.0       1.0       1.0       1.0\n",
       "std         0.0       0.0       0.0       0.0       0.0       0.0\n",
       "min         1.0       1.0       1.0       1.0       1.0       1.0\n",
       "25%         1.0       1.0       1.0       1.0       1.0       1.0\n",
       "50%         1.0       1.0       1.0       1.0       1.0       1.0\n",
       "75%         1.0       1.0       1.0       1.0       1.0       1.0\n",
       "max         1.0       1.0       1.0       1.0       1.0       1.0"
      ]
     },
     "execution_count": 6,
     "metadata": {},
     "output_type": "execute_result"
    }
   ],
   "source": [
    "pdata[bool_cols].describe()"
   ]
  },
  {
   "cell_type": "code",
   "execution_count": 7,
   "metadata": {
    "collapsed": true
   },
   "outputs": [],
   "source": [
    "pdata.drop(bool_cols, axis = 1, inplace = True)\n",
    "catFeatures = []\n",
    "NumFeatures = []\n",
    "for col,x in pdata.iloc[1,:].iteritems():\n",
    "    if(not str(x).isalpha()):\n",
    "        NumFeatures.append(col)\n",
    "    else:\n",
    "        catFeatures.append(col)"
   ]
  },
  {
   "cell_type": "code",
   "execution_count": 8,
   "metadata": {},
   "outputs": [
    {
     "name": "stdout",
     "output_type": "stream",
     "text": [
      "P101\n",
      "P102\n",
      "P201\n",
      "P203\n",
      "P204\n",
      "P205\n",
      "P206\n",
      "P301\n",
      "P302\n",
      "P402\n",
      "P403\n",
      "UV401\n",
      "P501\n",
      "P602\n"
     ]
    }
   ],
   "source": [
    "catFeatures = []\n",
    "for col in pdata[NumFeatures]:\n",
    "    if(pdata[[col]].dropna().isin([1, 2]).all().values):\n",
    "        print(col)\n",
    "        catFeatures.append(col)\n",
    "        pdata[col] = pdata[col].astype('category')"
   ]
  },
  {
   "cell_type": "code",
   "execution_count": 9,
   "metadata": {},
   "outputs": [
    {
     "data": {
      "text/plain": [
       "53"
      ]
     },
     "execution_count": 9,
     "metadata": {},
     "output_type": "execute_result"
    }
   ],
   "source": [
    "NumFeatures = [x for x in NumFeatures if x not in catFeatures ]\n",
    "len(NumFeatures) + len(catFeatures) + len(bool_cols)"
   ]
  },
  {
   "cell_type": "code",
   "execution_count": 10,
   "metadata": {
    "collapsed": true
   },
   "outputs": [],
   "source": [
    "X_cat = pd.get_dummies(pdata , columns=catFeatures[1:])"
   ]
  },
  {
   "cell_type": "code",
   "execution_count": 11,
   "metadata": {},
   "outputs": [
    {
     "data": {
      "text/plain": [
       "Index(['Timestamp', 'FIT101', 'LIT101', 'MV101', 'P101', 'AIT201', 'AIT202',\n",
       "       'AIT203', 'FIT201', 'MV201', 'DPIT301', 'FIT301', 'LIT301', 'MV301',\n",
       "       'MV302', 'MV303', 'MV304', 'AIT401', 'AIT402', 'FIT401', 'LIT401',\n",
       "       'AIT501', 'AIT502', 'AIT503', 'AIT504', 'FIT501', 'FIT502', 'FIT503',\n",
       "       'FIT504', 'PIT501', 'PIT502', 'PIT503', 'FIT601', 'EVENT', 'hod',\n",
       "       'P102_1', 'P102_2', 'P201_1', 'P201_2', 'P203_1', 'P203_2', 'P204_1',\n",
       "       'P204_2', 'P205_1', 'P205_2', 'P206_1', 'P206_2', 'P301_1', 'P301_2',\n",
       "       'P302_1', 'P302_2', 'P402_1', 'P402_2', 'P403_1', 'P403_2', 'UV401_1',\n",
       "       'UV401_2', 'P501_1', 'P501_2', 'P602_1', 'P602_2'],\n",
       "      dtype='object')"
      ]
     },
     "execution_count": 11,
     "metadata": {},
     "output_type": "execute_result"
    }
   ],
   "source": [
    "X_cat.columns"
   ]
  },
  {
   "cell_type": "code",
   "execution_count": 12,
   "metadata": {
    "collapsed": true
   },
   "outputs": [],
   "source": [
    "dummies = ['P102_1', 'P102_2', 'P201_1', 'P201_2', 'P203_1', 'P203_2', 'P204_1',\n",
    "'P204_2', 'P205_1', 'P205_2', 'P206_1', 'P206_2', 'P301_1', 'P301_2', 'P302_1', 'P302_2', 'P402_1', 'P402_2', 'P403_1', 'P403_2', 'UV401_1',\n",
    "'UV401_2', 'P501_1', 'P501_2', 'P602_1', 'P602_2']"
   ]
  },
  {
   "cell_type": "code",
   "execution_count": 13,
   "metadata": {
    "collapsed": true
   },
   "outputs": [],
   "source": [
    "y = pdata['EVENT'] == 'Attack'"
   ]
  },
  {
   "cell_type": "markdown",
   "metadata": {},
   "source": [
    "## Removing Top n Features "
   ]
  },
  {
   "cell_type": "code",
   "execution_count": 15,
   "metadata": {
    "collapsed": true
   },
   "outputs": [],
   "source": [
    "from time import time\n",
    "from sklearn.model_selection import train_test_split\n",
    "\n",
    "X = X_cat[NumFeatures[1:] + dummies]\n",
    "#X_train, X_test, y_train, y_test = train_test_split(X, y, random_state=42, stratify=y, test_size=0.25)\n",
    "X_train, X_test, y_train, y_test = train_test_split(X, y, random_state=42, stratify=y, test_size=0.25)"
   ]
  },
  {
   "cell_type": "code",
   "execution_count": 23,
   "metadata": {},
   "outputs": [
    {
     "name": "stdout",
     "output_type": "stream",
     "text": [
      "CPU times: user 40min 29s, sys: 5.38 s, total: 40min 35s\n",
      "Wall time: 10min 14s\n"
     ]
    }
   ],
   "source": [
    "from sklearn.ensemble import RandomForestRegressor\n",
    "from sklearn.datasets import make_regression"
   ]
  },
  {
   "cell_type": "code",
   "execution_count": null,
   "metadata": {
    "collapsed": true
   },
   "outputs": [],
   "source": []
  },
  {
   "cell_type": "code",
   "execution_count": 24,
   "metadata": {},
   "outputs": [
    {
     "name": "stdout",
     "output_type": "stream",
     "text": [
      "[[223148     57]\n",
      " [   274  13201]]\n",
      "             precision    recall  f1-score   support\n",
      "\n",
      "      False       1.00      1.00      1.00    223205\n",
      "       True       1.00      0.98      0.99     13475\n",
      "\n",
      "avg / total       1.00      1.00      1.00    236680\n",
      "\n",
      "0.99860148724\n"
     ]
    }
   ],
   "source": [
    "from sklearn.metrics import classification_report\n",
    "from sklearn.metrics import accuracy_score\n",
    "from sklearn.metrics import confusion_matrix\n",
    "\n",
    "print (confusion_matrix(y_test, clf_xgb1.predict(X_test)))\n",
    "print (classification_report(y_test, clf_xgb1.predict(X_test)))\n",
    "print (accuracy_score(y_test, clf_xgb1.predict(X_test)))"
   ]
  },
  {
   "cell_type": "code",
   "execution_count": 25,
   "metadata": {},
   "outputs": [
    {
     "name": "stderr",
     "output_type": "stream",
     "text": [
      "/home/ubuntu/anaconda3/lib/python3.6/site-packages/matplotlib/font_manager.py:1297: UserWarning: findfont: Font family ['sans-serif'] not found. Falling back to DejaVu Sans\n",
      "  (prop.get_family(), self.defaultFamily[fontext]))\n"
     ]
    },
    {
     "data": {
      "image/png": "[encoded data removed]",
      "text/plain": [
       "<matplotlib.figure.Figure at 0x7f9151c84048>"
      ]
     },
     "metadata": {},
     "output_type": "display_data"
    }
   ],
   "source": [
    "from xgboost import plot_importance\n",
    "fig, ax = plt.subplots(figsize=(12,18))\n",
    "plot_importance(clf_xgb1, height=0.8, ax=ax)\n",
    "plt.show()"
   ]
  },
  {
   "cell_type": "code",
   "execution_count": 26,
   "metadata": {},
   "outputs": [
    {
     "data": {
      "text/plain": [
       "Index(['FIT101', 'LIT101', 'MV101', 'AIT201', 'AIT202', 'AIT203', 'FIT201',\n",
       "       'MV201', 'DPIT301', 'FIT301', 'LIT301', 'MV301', 'MV302', 'MV303',\n",
       "       'MV304', 'AIT401', 'AIT402', 'FIT401', 'LIT401', 'AIT501', 'AIT502',\n",
       "       'AIT503', 'AIT504', 'FIT501', 'FIT502', 'FIT503', 'FIT504', 'PIT501',\n",
       "       'PIT502', 'PIT503', 'FIT601', 'hod', 'P102_1', 'P102_2', 'P201_1',\n",
       "       'P201_2', 'P203_1', 'P203_2', 'P204_1', 'P204_2', 'P205_1', 'P205_2',\n",
       "       'P206_1', 'P206_2', 'P301_1', 'P301_2', 'P302_1', 'P302_2', 'P402_1',\n",
       "       'P402_2', 'P403_1', 'P403_2', 'UV401_1', 'UV401_2', 'P501_1', 'P501_2',\n",
       "       'P602_1', 'P602_2'],\n",
       "      dtype='object')"
      ]
     },
     "execution_count": 26,
     "metadata": {},
     "output_type": "execute_result"
    }
   ],
   "source": [
    "X_train.columns"
   ]
  },
  {
   "cell_type": "code",
   "execution_count": 27,
   "metadata": {
    "collapsed": true
   },
   "outputs": [],
   "source": [
    "X1_train = X_train.drop(['LIT401','LIT301','LIT101'], axis=1)\n",
    "X1_test = X_test.drop(['LIT401','LIT301','LIT101'], axis=1)"
   ]
  },
  {
   "cell_type": "code",
   "execution_count": 28,
   "metadata": {},
   "outputs": [
    {
     "data": {
      "text/plain": [
       "Index(['FIT101', 'MV101', 'AIT201', 'AIT202', 'AIT203', 'FIT201', 'MV201',\n",
       "       'DPIT301', 'FIT301', 'MV301', 'MV302', 'MV303', 'MV304', 'AIT401',\n",
       "       'AIT402', 'FIT401', 'AIT501', 'AIT502', 'AIT503', 'AIT504', 'FIT501',\n",
       "       'FIT502', 'FIT503', 'FIT504', 'PIT501', 'PIT502', 'PIT503', 'FIT601',\n",
       "       'hod', 'P102_1', 'P102_2', 'P201_1', 'P201_2', 'P203_1', 'P203_2',\n",
       "       'P204_1', 'P204_2', 'P205_1', 'P205_2', 'P206_1', 'P206_2', 'P301_1',\n",
       "       'P301_2', 'P302_1', 'P302_2', 'P402_1', 'P402_2', 'P403_1', 'P403_2',\n",
       "       'UV401_1', 'UV401_2', 'P501_1', 'P501_2', 'P602_1', 'P602_2'],\n",
       "      dtype='object')"
      ]
     },
     "execution_count": 28,
     "metadata": {},
     "output_type": "execute_result"
    }
   ],
   "source": [
    "X1_train.columns"
   ]
  },
  {
   "cell_type": "code",
   "execution_count": 29,
   "metadata": {},
   "outputs": [
    {
     "ename": "NameError",
     "evalue": "name 'nX_train' is not defined",
     "output_type": "error",
     "traceback": [
      "\u001b[0;31m---------------------------------------------------------------------------\u001b[0m",
      "\u001b[0;31mNameError\u001b[0m                                 Traceback (most recent call last)",
      "\u001b[0;32m<ipython-input-29-695777820ac7>\u001b[0m in \u001b[0;36m<module>\u001b[0;34m()\u001b[0m\n\u001b[0;32m----> 1\u001b[0;31m \u001b[0mget_ipython\u001b[0m\u001b[0;34m(\u001b[0m\u001b[0;34m)\u001b[0m\u001b[0;34m.\u001b[0m\u001b[0mrun_cell_magic\u001b[0m\u001b[0;34m(\u001b[0m\u001b[0;34m'time'\u001b[0m\u001b[0;34m,\u001b[0m \u001b[0;34m''\u001b[0m\u001b[0;34m,\u001b[0m \u001b[0;34m'from sklearn.metrics import mean_absolute_error\\nfrom sklearn.metrics import make_scorer\\nfrom sklearn.model_selection import GridSearchCV\\n\\ndef get_model(estimator, parameters, X_train, y_train, scoring):  \\n    model = GridSearchCV(estimator, param_grid=parameters, scoring=scoring)\\n    model.fit(X_train, y_train)\\n    return model.best_estimator_\\n\\nfrom sklearn.model_selection import learning_curve\\nscoring = make_scorer(mean_absolute_error, greater_is_better=False)\\n\\nimport warnings\\nwarnings.filterwarnings(\"ignore\", category=DeprecationWarning) \\nimport xgboost as XGB\\nxgb = XGB.XGBClassifier(seed=42, max_depth=3, objective=\\'binary:logistic\\', n_estimators=400)\\nparameters = {\\'learning_rate\\':[0.1], \\'reg_alpha\\':[3.0], \\'reg_lambda\\': [4.0]}\\nclf_xgb12 = get_model(xgb, parameters, nX_train, ny_train, scoring)'\u001b[0m\u001b[0;34m)\u001b[0m\u001b[0;34m\u001b[0m\u001b[0m\n\u001b[0m",
      "\u001b[0;32m/home/ubuntu/anaconda3/lib/python3.6/site-packages/IPython/core/interactiveshell.py\u001b[0m in \u001b[0;36mrun_cell_magic\u001b[0;34m(self, magic_name, line, cell)\u001b[0m\n\u001b[1;32m   2113\u001b[0m             \u001b[0mmagic_arg_s\u001b[0m \u001b[0;34m=\u001b[0m \u001b[0mself\u001b[0m\u001b[0;34m.\u001b[0m\u001b[0mvar_expand\u001b[0m\u001b[0;34m(\u001b[0m\u001b[0mline\u001b[0m\u001b[0;34m,\u001b[0m \u001b[0mstack_depth\u001b[0m\u001b[0;34m)\u001b[0m\u001b[0;34m\u001b[0m\u001b[0m\n\u001b[1;32m   2114\u001b[0m             \u001b[0;32mwith\u001b[0m \u001b[0mself\u001b[0m\u001b[0;34m.\u001b[0m\u001b[0mbuiltin_trap\u001b[0m\u001b[0;34m:\u001b[0m\u001b[0;34m\u001b[0m\u001b[0m\n\u001b[0;32m-> 2115\u001b[0;31m                 \u001b[0mresult\u001b[0m \u001b[0;34m=\u001b[0m \u001b[0mfn\u001b[0m\u001b[0;34m(\u001b[0m\u001b[0mmagic_arg_s\u001b[0m\u001b[0;34m,\u001b[0m \u001b[0mcell\u001b[0m\u001b[0;34m)\u001b[0m\u001b[0;34m\u001b[0m\u001b[0m\n\u001b[0m\u001b[1;32m   2116\u001b[0m             \u001b[0;32mreturn\u001b[0m \u001b[0mresult\u001b[0m\u001b[0;34m\u001b[0m\u001b[0m\n\u001b[1;32m   2117\u001b[0m \u001b[0;34m\u001b[0m\u001b[0m\n",
      "\u001b[0;32m<decorator-gen-59>\u001b[0m in \u001b[0;36mtime\u001b[0;34m(self, line, cell, local_ns)\u001b[0m\n",
      "\u001b[0;32m/home/ubuntu/anaconda3/lib/python3.6/site-packages/IPython/core/magic.py\u001b[0m in \u001b[0;36m<lambda>\u001b[0;34m(f, *a, **k)\u001b[0m\n\u001b[1;32m    186\u001b[0m     \u001b[0;31m# but it's overkill for just that one bit of state.\u001b[0m\u001b[0;34m\u001b[0m\u001b[0;34m\u001b[0m\u001b[0m\n\u001b[1;32m    187\u001b[0m     \u001b[0;32mdef\u001b[0m \u001b[0mmagic_deco\u001b[0m\u001b[0;34m(\u001b[0m\u001b[0marg\u001b[0m\u001b[0;34m)\u001b[0m\u001b[0;34m:\u001b[0m\u001b[0;34m\u001b[0m\u001b[0m\n\u001b[0;32m--> 188\u001b[0;31m         \u001b[0mcall\u001b[0m \u001b[0;34m=\u001b[0m \u001b[0;32mlambda\u001b[0m \u001b[0mf\u001b[0m\u001b[0;34m,\u001b[0m \u001b[0;34m*\u001b[0m\u001b[0ma\u001b[0m\u001b[0;34m,\u001b[0m \u001b[0;34m**\u001b[0m\u001b[0mk\u001b[0m\u001b[0;34m:\u001b[0m \u001b[0mf\u001b[0m\u001b[0;34m(\u001b[0m\u001b[0;34m*\u001b[0m\u001b[0ma\u001b[0m\u001b[0;34m,\u001b[0m \u001b[0;34m**\u001b[0m\u001b[0mk\u001b[0m\u001b[0;34m)\u001b[0m\u001b[0;34m\u001b[0m\u001b[0m\n\u001b[0m\u001b[1;32m    189\u001b[0m \u001b[0;34m\u001b[0m\u001b[0m\n\u001b[1;32m    190\u001b[0m         \u001b[0;32mif\u001b[0m \u001b[0mcallable\u001b[0m\u001b[0;34m(\u001b[0m\u001b[0marg\u001b[0m\u001b[0;34m)\u001b[0m\u001b[0;34m:\u001b[0m\u001b[0;34m\u001b[0m\u001b[0m\n",
      "\u001b[0;32m/home/ubuntu/anaconda3/lib/python3.6/site-packages/IPython/core/magics/execution.py\u001b[0m in \u001b[0;36mtime\u001b[0;34m(self, line, cell, local_ns)\u001b[0m\n\u001b[1;32m   1183\u001b[0m         \u001b[0;32melse\u001b[0m\u001b[0;34m:\u001b[0m\u001b[0;34m\u001b[0m\u001b[0m\n\u001b[1;32m   1184\u001b[0m             \u001b[0mst\u001b[0m \u001b[0;34m=\u001b[0m \u001b[0mclock2\u001b[0m\u001b[0;34m(\u001b[0m\u001b[0;34m)\u001b[0m\u001b[0;34m\u001b[0m\u001b[0m\n\u001b[0;32m-> 1185\u001b[0;31m             \u001b[0mexec\u001b[0m\u001b[0;34m(\u001b[0m\u001b[0mcode\u001b[0m\u001b[0;34m,\u001b[0m \u001b[0mglob\u001b[0m\u001b[0;34m,\u001b[0m \u001b[0mlocal_ns\u001b[0m\u001b[0;34m)\u001b[0m\u001b[0;34m\u001b[0m\u001b[0m\n\u001b[0m\u001b[1;32m   1186\u001b[0m             \u001b[0mend\u001b[0m \u001b[0;34m=\u001b[0m \u001b[0mclock2\u001b[0m\u001b[0;34m(\u001b[0m\u001b[0;34m)\u001b[0m\u001b[0;34m\u001b[0m\u001b[0m\n\u001b[1;32m   1187\u001b[0m             \u001b[0mout\u001b[0m \u001b[0;34m=\u001b[0m \u001b[0;32mNone\u001b[0m\u001b[0;34m\u001b[0m\u001b[0m\n",
      "\u001b[0;32m<timed exec>\u001b[0m in \u001b[0;36m<module>\u001b[0;34m()\u001b[0m\n",
      "\u001b[0;31mNameError\u001b[0m: name 'nX_train' is not defined"
     ]
    }
   ],
   "source": [
    "%%time\n",
    "from sklearn.metrics import mean_absolute_error\n",
    "from sklearn.metrics import make_scorer\n",
    "from sklearn.model_selection import GridSearchCV\n",
    "\n",
    "def get_model(estimator, parameters, X_train, y_train, scoring):  \n",
    "    model = GridSearchCV(estimator, param_grid=parameters, scoring=scoring)\n",
    "    model.fit(X_train, y_train)\n",
    "    return model.best_estimator_\n",
    "\n",
    "from sklearn.model_selection import learning_curve\n",
    "scoring = make_scorer(mean_absolute_error, greater_is_better=False)\n",
    "\n",
    "import warnings\n",
    "warnings.filterwarnings(\"ignore\", category=DeprecationWarning) \n",
    "import xgboost as XGB\n",
    "xgb = XGB.XGBClassifier(seed=42, max_depth=3, objective='binary:logistic', n_estimators=400)\n",
    "parameters = {'learning_rate':[0.1], 'reg_alpha':[3.0], 'reg_lambda': [4.0]}\n",
    "clf_xgb12 = get_model(xgb, parameters, nX_train, ny_train, scoring)"
   ]
  },
  {
   "cell_type": "code",
   "execution_count": null,
   "metadata": {
    "collapsed": true
   },
   "outputs": [],
   "source": [
    "from sklearn.metrics import classification_report\n",
    "from sklearn.metrics import accuracy_score\n",
    "from sklearn.metrics import confusion_matrix\n",
    "\n",
    "print (confusion_matrix(y_test, clf_xgb12.predict(nX_test)))\n",
    "print (classification_report(y_test, clf_xgb12.predict(nX_test)))\n",
    "print (accuracy_score(y_test, clf_xgb12.predict(nX_test)))"
   ]
  },
  {
   "cell_type": "code",
   "execution_count": null,
   "metadata": {
    "collapsed": true
   },
   "outputs": [],
   "source": [
    "from xgboost import plot_importance\n",
    "fig, ax = plt.subplots(figsize=(12,18))\n",
    "plot_importance(clf_xgb12, height=0.8, ax=ax)\n",
    "plt.show()"
   ]
  },
  {
   "cell_type": "markdown",
   "metadata": {},
   "source": [
    "## Sequential Forward Selection"
   ]
  },
  {
   "cell_type": "code",
   "execution_count": 30,
   "metadata": {},
   "outputs": [
    {
     "name": "stdout",
     "output_type": "stream",
     "text": [
      "CPU times: user 4 ms, sys: 0 ns, total: 4 ms\n",
      "Wall time: 13.7 ms\n"
     ]
    }
   ],
   "source": [
    "%%time\n",
    "from sklearn.naive_bayes import GaussianNB\n",
    "from sklearn import metrics\n",
    "clf = GaussianNB()"
   ]
  },
  {
   "cell_type": "code",
   "execution_count": 31,
   "metadata": {},
   "outputs": [
    {
     "data": {
      "text/plain": [
       "(946719, 58)"
      ]
     },
     "execution_count": 31,
     "metadata": {},
     "output_type": "execute_result"
    }
   ],
   "source": [
    "X.shape"
   ]
  },
  {
   "cell_type": "code",
   "execution_count": 33,
   "metadata": {},
   "outputs": [
    {
     "name": "stderr",
     "output_type": "stream",
     "text": [
      "[Parallel(n_jobs=-1)]: Done  33 tasks      | elapsed:   28.8s\n",
      "/home/ubuntu/anaconda3/lib/python3.6/site-packages/sklearn/naive_bayes.py:428: RuntimeWarning: divide by zero encountered in log\n",
      "  n_ij = - 0.5 * np.sum(np.log(2. * np.pi * self.sigma_[i, :]))\n",
      "/home/ubuntu/anaconda3/lib/python3.6/site-packages/sklearn/naive_bayes.py:430: RuntimeWarning: divide by zero encountered in true_divide\n",
      "  (self.sigma_[i, :]), 1)\n",
      "/home/ubuntu/anaconda3/lib/python3.6/site-packages/sklearn/naive_bayes.py:430: RuntimeWarning: invalid value encountered in true_divide\n",
      "  (self.sigma_[i, :]), 1)\n",
      "/home/ubuntu/anaconda3/lib/python3.6/site-packages/sklearn/naive_bayes.py:430: RuntimeWarning: invalid value encountered in subtract\n",
      "  (self.sigma_[i, :]), 1)\n",
      "/home/ubuntu/anaconda3/lib/python3.6/site-packages/sklearn/naive_bayes.py:428: RuntimeWarning: divide by zero encountered in log\n",
      "  n_ij = - 0.5 * np.sum(np.log(2. * np.pi * self.sigma_[i, :]))\n",
      "/home/ubuntu/anaconda3/lib/python3.6/site-packages/sklearn/naive_bayes.py:430: RuntimeWarning: divide by zero encountered in true_divide\n",
      "  (self.sigma_[i, :]), 1)\n",
      "/home/ubuntu/anaconda3/lib/python3.6/site-packages/sklearn/naive_bayes.py:430: RuntimeWarning: invalid value encountered in true_divide\n",
      "  (self.sigma_[i, :]), 1)\n",
      "/home/ubuntu/anaconda3/lib/python3.6/site-packages/sklearn/naive_bayes.py:430: RuntimeWarning: invalid value encountered in subtract\n",
      "  (self.sigma_[i, :]), 1)\n",
      "/home/ubuntu/anaconda3/lib/python3.6/site-packages/sklearn/naive_bayes.py:428: RuntimeWarning: divide by zero encountered in log\n",
      "  n_ij = - 0.5 * np.sum(np.log(2. * np.pi * self.sigma_[i, :]))\n",
      "/home/ubuntu/anaconda3/lib/python3.6/site-packages/sklearn/naive_bayes.py:430: RuntimeWarning: divide by zero encountered in true_divide\n",
      "  (self.sigma_[i, :]), 1)\n",
      "/home/ubuntu/anaconda3/lib/python3.6/site-packages/sklearn/naive_bayes.py:430: RuntimeWarning: invalid value encountered in true_divide\n",
      "  (self.sigma_[i, :]), 1)\n",
      "/home/ubuntu/anaconda3/lib/python3.6/site-packages/sklearn/naive_bayes.py:430: RuntimeWarning: invalid value encountered in subtract\n",
      "  (self.sigma_[i, :]), 1)\n",
      "/home/ubuntu/anaconda3/lib/python3.6/site-packages/sklearn/naive_bayes.py:428: RuntimeWarning: divide by zero encountered in log\n",
      "  n_ij = - 0.5 * np.sum(np.log(2. * np.pi * self.sigma_[i, :]))\n",
      "/home/ubuntu/anaconda3/lib/python3.6/site-packages/sklearn/naive_bayes.py:430: RuntimeWarning: divide by zero encountered in true_divide\n",
      "  (self.sigma_[i, :]), 1)\n",
      "/home/ubuntu/anaconda3/lib/python3.6/site-packages/sklearn/naive_bayes.py:430: RuntimeWarning: invalid value encountered in true_divide\n",
      "  (self.sigma_[i, :]), 1)\n",
      "/home/ubuntu/anaconda3/lib/python3.6/site-packages/sklearn/naive_bayes.py:430: RuntimeWarning: invalid value encountered in subtract\n",
      "  (self.sigma_[i, :]), 1)\n",
      "/home/ubuntu/anaconda3/lib/python3.6/site-packages/sklearn/naive_bayes.py:428: RuntimeWarning: divide by zero encountered in log\n",
      "  n_ij = - 0.5 * np.sum(np.log(2. * np.pi * self.sigma_[i, :]))\n",
      "/home/ubuntu/anaconda3/lib/python3.6/site-packages/sklearn/naive_bayes.py:430: RuntimeWarning: divide by zero encountered in true_divide\n",
      "  (self.sigma_[i, :]), 1)\n",
      "/home/ubuntu/anaconda3/lib/python3.6/site-packages/sklearn/naive_bayes.py:430: RuntimeWarning: invalid value encountered in true_divide\n",
      "  (self.sigma_[i, :]), 1)\n",
      "/home/ubuntu/anaconda3/lib/python3.6/site-packages/sklearn/naive_bayes.py:430: RuntimeWarning: invalid value encountered in subtract\n",
      "  (self.sigma_[i, :]), 1)\n",
      "/home/ubuntu/anaconda3/lib/python3.6/site-packages/sklearn/naive_bayes.py:428: RuntimeWarning: divide by zero encountered in log\n",
      "  n_ij = - 0.5 * np.sum(np.log(2. * np.pi * self.sigma_[i, :]))\n",
      "/home/ubuntu/anaconda3/lib/python3.6/site-packages/sklearn/naive_bayes.py:430: RuntimeWarning: divide by zero encountered in true_divide\n",
      "  (self.sigma_[i, :]), 1)\n",
      "/home/ubuntu/anaconda3/lib/python3.6/site-packages/sklearn/naive_bayes.py:430: RuntimeWarning: invalid value encountered in true_divide\n",
      "  (self.sigma_[i, :]), 1)\n",
      "/home/ubuntu/anaconda3/lib/python3.6/site-packages/sklearn/naive_bayes.py:430: RuntimeWarning: invalid value encountered in subtract\n",
      "  (self.sigma_[i, :]), 1)\n",
      "/home/ubuntu/anaconda3/lib/python3.6/site-packages/sklearn/naive_bayes.py:428: RuntimeWarning: divide by zero encountered in log\n",
      "  n_ij = - 0.5 * np.sum(np.log(2. * np.pi * self.sigma_[i, :]))\n",
      "/home/ubuntu/anaconda3/lib/python3.6/site-packages/sklearn/naive_bayes.py:430: RuntimeWarning: divide by zero encountered in true_divide\n",
      "  (self.sigma_[i, :]), 1)\n",
      "/home/ubuntu/anaconda3/lib/python3.6/site-packages/sklearn/naive_bayes.py:430: RuntimeWarning: invalid value encountered in true_divide\n",
      "  (self.sigma_[i, :]), 1)\n",
      "/home/ubuntu/anaconda3/lib/python3.6/site-packages/sklearn/naive_bayes.py:430: RuntimeWarning: invalid value encountered in subtract\n",
      "  (self.sigma_[i, :]), 1)\n",
      "/home/ubuntu/anaconda3/lib/python3.6/site-packages/sklearn/naive_bayes.py:428: RuntimeWarning: divide by zero encountered in log\n",
      "  n_ij = - 0.5 * np.sum(np.log(2. * np.pi * self.sigma_[i, :]))\n",
      "/home/ubuntu/anaconda3/lib/python3.6/site-packages/sklearn/naive_bayes.py:430: RuntimeWarning: divide by zero encountered in true_divide\n",
      "  (self.sigma_[i, :]), 1)\n",
      "/home/ubuntu/anaconda3/lib/python3.6/site-packages/sklearn/naive_bayes.py:430: RuntimeWarning: invalid value encountered in true_divide\n",
      "  (self.sigma_[i, :]), 1)\n",
      "/home/ubuntu/anaconda3/lib/python3.6/site-packages/sklearn/naive_bayes.py:430: RuntimeWarning: invalid value encountered in subtract\n",
      "  (self.sigma_[i, :]), 1)\n",
      "/home/ubuntu/anaconda3/lib/python3.6/site-packages/sklearn/naive_bayes.py:428: RuntimeWarning: divide by zero encountered in log\n",
      "  n_ij = - 0.5 * np.sum(np.log(2. * np.pi * self.sigma_[i, :]))\n",
      "/home/ubuntu/anaconda3/lib/python3.6/site-packages/sklearn/naive_bayes.py:430: RuntimeWarning: divide by zero encountered in true_divide\n",
      "  (self.sigma_[i, :]), 1)\n",
      "/home/ubuntu/anaconda3/lib/python3.6/site-packages/sklearn/naive_bayes.py:430: RuntimeWarning: invalid value encountered in true_divide\n",
      "  (self.sigma_[i, :]), 1)\n",
      "/home/ubuntu/anaconda3/lib/python3.6/site-packages/sklearn/naive_bayes.py:430: RuntimeWarning: invalid value encountered in subtract\n",
      "  (self.sigma_[i, :]), 1)\n",
      "/home/ubuntu/anaconda3/lib/python3.6/site-packages/sklearn/naive_bayes.py:428: RuntimeWarning: divide by zero encountered in log\n",
      "  n_ij = - 0.5 * np.sum(np.log(2. * np.pi * self.sigma_[i, :]))\n",
      "/home/ubuntu/anaconda3/lib/python3.6/site-packages/sklearn/naive_bayes.py:430: RuntimeWarning: divide by zero encountered in true_divide\n",
      "  (self.sigma_[i, :]), 1)\n",
      "/home/ubuntu/anaconda3/lib/python3.6/site-packages/sklearn/naive_bayes.py:430: RuntimeWarning: invalid value encountered in true_divide\n",
      "  (self.sigma_[i, :]), 1)\n",
      "/home/ubuntu/anaconda3/lib/python3.6/site-packages/sklearn/naive_bayes.py:430: RuntimeWarning: invalid value encountered in subtract\n",
      "  (self.sigma_[i, :]), 1)\n",
      "[Parallel(n_jobs=-1)]: Done  58 out of  58 | elapsed:   53.9s finished\n",
      "\n",
      "[2017-08-15 17:00:55] Features: 1/58 -- score: 0.975360201948[Parallel(n_jobs=-1)]: Done  33 tasks      | elapsed:   29.6s\n",
      "[Parallel(n_jobs=-1)]: Done  57 out of  57 | elapsed:   50.3s finished\n",
      "\n",
      "[2017-08-15 17:01:45] Features: 2/58 -- score: 0.978591350424[Parallel(n_jobs=-1)]: Done  33 tasks      | elapsed:   30.0s\n",
      "[Parallel(n_jobs=-1)]: Done  56 out of  56 | elapsed:   49.3s finished\n",
      "\n",
      "[2017-08-15 17:02:35] Features: 3/58 -- score: 0.981317604537[Parallel(n_jobs=-1)]: Done  33 tasks      | elapsed:   29.9s\n",
      "[Parallel(n_jobs=-1)]: Done  55 out of  55 | elapsed:   48.9s finished\n",
      "\n",
      "[2017-08-15 17:03:24] Features: 4/58 -- score: 0.981706316655[Parallel(n_jobs=-1)]: Done  33 tasks      | elapsed:   30.5s\n",
      "[Parallel(n_jobs=-1)]: Done  54 out of  54 | elapsed:   48.5s finished\n",
      "\n",
      "[2017-08-15 17:04:13] Features: 5/58 -- score: 0.981904896423[Parallel(n_jobs=-1)]: Done  33 tasks      | elapsed:   29.7s\n",
      "[Parallel(n_jobs=-1)]: Done  53 out of  53 | elapsed:   46.6s finished\n",
      "\n",
      "[2017-08-15 17:05:00] Features: 6/58 -- score: 0.98197672377[Parallel(n_jobs=-1)]: Done  33 tasks      | elapsed:   29.7s\n",
      "[Parallel(n_jobs=-1)]: Done  52 out of  52 | elapsed:   45.8s finished\n",
      "\n",
      "[2017-08-15 17:05:46] Features: 7/58 -- score: 0.982021087605[Parallel(n_jobs=-1)]: Done  33 tasks      | elapsed:   29.7s\n"
     ]
    },
    {
     "name": "stderr",
     "output_type": "stream",
     "text": [
      "[Parallel(n_jobs=-1)]: Done  51 out of  51 | elapsed:   45.1s finished\n",
      "\n",
      "[2017-08-15 17:06:31] Features: 8/58 -- score: 0.98205383233[Parallel(n_jobs=-1)]: Done  33 tasks      | elapsed:   30.2s\n",
      "[Parallel(n_jobs=-1)]: Done  50 out of  50 | elapsed:   44.3s finished\n",
      "\n",
      "[2017-08-15 17:07:16] Features: 9/58 -- score: 0.982087633372[Parallel(n_jobs=-1)]: Done  33 tasks      | elapsed:   30.0s\n",
      "[Parallel(n_jobs=-1)]: Done  49 out of  49 | elapsed:   43.6s finished\n",
      "\n",
      "[2017-08-15 17:08:00] Features: 10/58 -- score: 0.982102421294[Parallel(n_jobs=-1)]: Done  33 tasks      | elapsed:   30.8s\n",
      "[Parallel(n_jobs=-1)]: Done  48 out of  48 | elapsed:   44.7s finished\n",
      "\n",
      "[2017-08-15 17:08:45] Features: 11/58 -- score: 0.98211509667[Parallel(n_jobs=-1)]: Done  33 tasks      | elapsed:   36.7s\n",
      "[Parallel(n_jobs=-1)]: Done  47 out of  47 | elapsed:   50.4s finished\n",
      "\n",
      "[2017-08-15 17:09:35] Features: 12/58 -- score: 0.982117209235[Parallel(n_jobs=-1)]: Done  33 tasks      | elapsed:   37.9s\n",
      "[Parallel(n_jobs=-1)]: Done  46 out of  46 | elapsed:   51.7s finished\n",
      "\n",
      "[2017-08-15 17:10:27] Features: 13/58 -- score: 0.982119321801[Parallel(n_jobs=-1)]: Done  33 tasks      | elapsed:   39.2s\n",
      "[Parallel(n_jobs=-1)]: Done  45 out of  45 | elapsed:   52.0s finished\n",
      "\n",
      "[2017-08-15 17:11:19] Features: 14/58 -- score: 0.982120378091[Parallel(n_jobs=-1)]: Done  33 tasks      | elapsed:   37.7s\n",
      "[Parallel(n_jobs=-1)]: Done  44 out of  44 | elapsed:   47.6s finished\n",
      "\n",
      "[2017-08-15 17:12:07] Features: 15/58 -- score: 0.982121434371[Parallel(n_jobs=-1)]: Done  33 tasks      | elapsed:   35.6s\n",
      "[Parallel(n_jobs=-1)]: Done  43 out of  43 | elapsed:   44.8s finished\n",
      "\n",
      "[2017-08-15 17:12:52] Features: 16/58 -- score: 0.982121434371[Parallel(n_jobs=-1)]: Done  33 tasks      | elapsed:   37.3s\n",
      "[Parallel(n_jobs=-1)]: Done  42 out of  42 | elapsed:   45.1s finished\n",
      "\n",
      "[2017-08-15 17:13:38] Features: 17/58 -- score: 0.982121434371[Parallel(n_jobs=-1)]: Done  33 tasks      | elapsed:   38.1s\n",
      "[Parallel(n_jobs=-1)]: Done  41 out of  41 | elapsed:   45.1s finished\n",
      "\n",
      "[2017-08-15 17:14:23] Features: 18/58 -- score: 0.982123546234[Parallel(n_jobs=-1)]: Done  33 tasks      | elapsed:   40.1s\n",
      "[Parallel(n_jobs=-1)]: Done  40 out of  40 | elapsed:   46.6s finished\n",
      "\n",
      "[2017-08-15 17:15:10] Features: 19/58 -- score: 0.982360151199[Parallel(n_jobs=-1)]: Done  39 out of  39 | elapsed:   55.4s finished\n",
      "\n",
      "[2017-08-15 17:16:05] Features: 20/58 -- score: 0.982448878879[Parallel(n_jobs=-1)]: Done  38 out of  38 | elapsed:   48.6s finished\n",
      "\n",
      "[2017-08-15 17:16:54] Features: 21/58 -- score: 0.982600982919[Parallel(n_jobs=-1)]: Done  37 out of  37 | elapsed:   46.6s finished\n",
      "\n",
      "[2017-08-15 17:17:41] Features: 22/58 -- score: 0.98263161472[Parallel(n_jobs=-1)]: Done  36 out of  36 | elapsed:   47.2s finished\n",
      "\n",
      "[2017-08-15 17:18:29] Features: 23/58 -- score: 0.982753086604[Parallel(n_jobs=-1)]: Done  35 out of  35 | elapsed:   47.0s finished\n",
      "\n",
      "[2017-08-15 17:19:16] Features: 24/58 -- score: 0.982836532943[Parallel(n_jobs=-1)]: Done  34 out of  34 | elapsed:   49.6s finished\n",
      "\n",
      "[2017-08-15 17:20:06] Features: 25/58 -- score: 0.982891459253[Parallel(n_jobs=-1)]: Done  33 out of  33 | elapsed:   49.1s finished\n",
      "\n",
      "[2017-08-15 17:20:55] Features: 26/58 -- score: 0.98294638561[Parallel(n_jobs=-1)]: Done  32 out of  32 | elapsed:   49.7s finished\n",
      "\n",
      "[2017-08-15 17:21:45] Features: 27/58 -- score: 0.982985467829[Parallel(n_jobs=-1)]: Done  31 out of  31 | elapsed:   50.2s finished\n",
      "\n",
      "[2017-08-15 17:22:35] Features: 28/58 -- score: 0.983031943975[Parallel(n_jobs=-1)]: Done  30 out of  30 | elapsed:   50.7s finished\n",
      "\n",
      "[2017-08-15 17:23:26] Features: 29/58 -- score: 0.983080532678[Parallel(n_jobs=-1)]: Done  29 out of  29 | elapsed:   50.3s finished\n",
      "\n",
      "[2017-08-15 17:24:17] Features: 30/58 -- score: 0.983109051997[Parallel(n_jobs=-1)]: Done  28 out of  28 | elapsed:   54.6s finished\n",
      "\n",
      "[2017-08-15 17:25:12] Features: 31/58 -- score: 0.98308898174[Parallel(n_jobs=-1)]: Done  27 out of  27 | elapsed:  1.0min finished\n",
      "\n",
      "[2017-08-15 17:26:13] Features: 32/58 -- score: 0.983214678843[Parallel(n_jobs=-1)]: Done  26 out of  26 | elapsed:   50.1s finished\n",
      "\n",
      "[2017-08-15 17:27:03] Features: 33/58 -- score: 0.983356220116[Parallel(n_jobs=-1)]: Done  25 out of  25 | elapsed:   56.7s finished\n",
      "\n",
      "[2017-08-15 17:28:00] Features: 34/58 -- score: 0.983309743612[Parallel(n_jobs=-1)]: Done  24 out of  24 | elapsed:   56.2s finished\n",
      "\n",
      "[2017-08-15 17:28:57] Features: 35/58 -- score: 0.983324531637[Parallel(n_jobs=-1)]: Done  23 out of  23 | elapsed:  1.0min finished\n",
      "\n",
      "[2017-08-15 17:29:58] Features: 36/58 -- score: 0.983180877851[Parallel(n_jobs=-1)]: Done  22 out of  22 | elapsed:   56.4s finished\n",
      "\n",
      "[2017-08-15 17:30:54] Features: 37/58 -- score: 0.982979127744[Parallel(n_jobs=-1)]: Done  21 out of  21 | elapsed:   53.4s finished\n",
      "\n",
      "[2017-08-15 17:31:48] Features: 38/58 -- score: 0.98281012387[Parallel(n_jobs=-1)]: Done  20 out of  20 | elapsed:   52.2s finished\n",
      "\n",
      "[2017-08-15 17:32:41] Features: 39/58 -- score: 0.982527040161[Parallel(n_jobs=-1)]: Done  19 out of  19 | elapsed:   49.9s finished\n",
      "\n",
      "[2017-08-15 17:33:31] Features: 40/58 -- score: 0.982549223245[Parallel(n_jobs=-1)]: Done  18 out of  18 | elapsed:   49.8s finished\n",
      "\n",
      "[2017-08-15 17:34:21] Features: 41/58 -- score: 0.982636894009[Parallel(n_jobs=-1)]: Done  17 out of  17 | elapsed:   48.5s finished\n",
      "\n",
      "[2017-08-15 17:35:10] Features: 42/58 -- score: 0.982475282589[Parallel(n_jobs=-1)]: Done  16 out of  16 | elapsed:   45.6s finished\n",
      "\n",
      "[2017-08-15 17:35:56] Features: 43/58 -- score: 0.982465777465[Parallel(n_jobs=-1)]: Done  15 out of  15 | elapsed:   44.3s finished\n",
      "\n",
      "[2017-08-15 17:36:40] Features: 44/58 -- score: 0.982515422113[Parallel(n_jobs=-1)]: Done  14 out of  14 | elapsed:   41.8s finished\n",
      "\n",
      "[2017-08-15 17:37:22] Features: 45/58 -- score: 0.982333743039[Parallel(n_jobs=-1)]: Done  13 out of  13 | elapsed:   41.4s remaining:    0.0s\n",
      "[Parallel(n_jobs=-1)]: Done  13 out of  13 | elapsed:   41.4s finished\n",
      "\n",
      "[2017-08-15 17:38:04] Features: 46/58 -- score: 0.982444652077[Parallel(n_jobs=-1)]: Done  12 out of  12 | elapsed:   37.6s remaining:    0.0s\n",
      "[Parallel(n_jobs=-1)]: Done  12 out of  12 | elapsed:   37.6s finished\n",
      "\n",
      "[2017-08-15 17:38:42] Features: 47/58 -- score: 0.982402400513[Parallel(n_jobs=-1)]: Done  11 out of  11 | elapsed:   34.4s finished\n",
      "\n",
      "[2017-08-15 17:39:17] Features: 48/58 -- score: 0.982281985605[Parallel(n_jobs=-1)]: Done  10 out of  10 | elapsed:   33.0s finished\n",
      "\n",
      "[2017-08-15 17:39:50] Features: 49/58 -- score: 0.982322123887[Parallel(n_jobs=-1)]: Done   7 out of   9 | elapsed:   27.0s remaining:    7.7s\n",
      "[Parallel(n_jobs=-1)]: Done   9 out of   9 | elapsed:   31.5s finished\n",
      "\n",
      "[2017-08-15 17:40:22] Features: 50/58 -- score: 0.982154176288[Parallel(n_jobs=-1)]: Done   6 out of   8 | elapsed:   26.4s remaining:    8.8s\n",
      "[Parallel(n_jobs=-1)]: Done   8 out of   8 | elapsed:   27.0s finished\n",
      "\n",
      "[2017-08-15 17:40:49] Features: 51/58 -- score: 0.982064392439[Parallel(n_jobs=-1)]: Done   4 out of   7 | elapsed:   18.1s remaining:   13.6s\n",
      "[Parallel(n_jobs=-1)]: Done   7 out of   7 | elapsed:   24.3s finished\n",
      "\n",
      "[2017-08-15 17:41:14] Features: 52/58 -- score: 0.98195348375[Parallel(n_jobs=-1)]: Done   3 out of   6 | elapsed:   16.0s remaining:   16.0s\n",
      "[Parallel(n_jobs=-1)]: Done   6 out of   6 | elapsed:   23.0s finished\n",
      "\n",
      "[2017-08-15 17:41:37] Features: 53/58 -- score: 0.981833068594[Parallel(n_jobs=-1)]: Done   5 out of   5 | elapsed:   20.2s finished\n",
      "\n",
      "[2017-08-15 17:41:58] Features: 54/58 -- score: 0.981748566602[Parallel(n_jobs=-1)]: Done   4 out of   4 | elapsed:   15.1s finished\n",
      "\n",
      "[2017-08-15 17:42:13] Features: 55/58 -- score: 0.981753848003[Parallel(n_jobs=-1)]: Done   3 out of   3 | elapsed:   12.0s finished\n",
      "\n",
      "[2017-08-15 17:42:25] Features: 56/58 -- score: 0.98142323147[Parallel(n_jobs=-1)]: Done   2 out of   2 | elapsed:   10.4s finished\n",
      "\n",
      "[2017-08-15 17:42:36] Features: 57/58 -- score: 0.980696509113[Parallel(n_jobs=-1)]: Done   1 out of   1 | elapsed:    8.0s finished\n",
      "\n",
      "[2017-08-15 17:42:44] Features: 58/58 -- score: 0.758834831469"
     ]
    }
   ],
   "source": [
    "from mlxtend.feature_selection import SequentialFeatureSelector as SFS\n",
    "\n",
    "sfs1 = SFS(clf, \n",
    "           k_features=58, \n",
    "           forward=True, \n",
    "           floating=False, \n",
    "           verbose=2,\n",
    "           scoring='accuracy',\n",
    "           cv=3,\n",
    "          n_jobs=-1)\n",
    "\n",
    "sfs1 = sfs1.fit(X.values, y)"
   ]
  },
  {
   "cell_type": "code",
   "execution_count": 35,
   "metadata": {},
   "outputs": [
    {
     "data": {
      "text/html": [
       "<div>\n",
       "<style>\n",
       "    .dataframe thead tr:only-child th {\n",
       "        text-align: right;\n",
       "    }\n",
       "\n",
       "    .dataframe thead th {\n",
       "        text-align: left;\n",
       "    }\n",
       "\n",
       "    .dataframe tbody tr th {\n",
       "        vertical-align: top;\n",
       "    }\n",
       "</style>\n",
       "<table border=\"1\" class=\"dataframe\">\n",
       "  <thead>\n",
       "    <tr style=\"text-align: right;\">\n",
       "      <th></th>\n",
       "      <th>avg_score</th>\n",
       "      <th>ci_bound</th>\n",
       "      <th>cv_scores</th>\n",
       "      <th>feature_idx</th>\n",
       "      <th>std_dev</th>\n",
       "      <th>std_err</th>\n",
       "    </tr>\n",
       "  </thead>\n",
       "  <tbody>\n",
       "    <tr>\n",
       "      <th>1</th>\n",
       "      <td>0.97536</td>\n",
       "      <td>0.0506486</td>\n",
       "      <td>[0.945556351284, 0.999939792061, 0.9805844625]</td>\n",
       "      <td>(17,)</td>\n",
       "      <td>0.0225072</td>\n",
       "      <td>0.015915</td>\n",
       "    </tr>\n",
       "    <tr>\n",
       "      <th>2</th>\n",
       "      <td>0.978591</td>\n",
       "      <td>0.0408427</td>\n",
       "      <td>[0.955576188152, 0.999939792061, 0.980258071058]</td>\n",
       "      <td>(17, 22)</td>\n",
       "      <td>0.0181497</td>\n",
       "      <td>0.0128338</td>\n",
       "    </tr>\n",
       "    <tr>\n",
       "      <th>3</th>\n",
       "      <td>0.981318</td>\n",
       "      <td>0.0353923</td>\n",
       "      <td>[0.961416339749, 0.999870077605, 0.982666396258]</td>\n",
       "      <td>(32, 17, 22)</td>\n",
       "      <td>0.0157276</td>\n",
       "      <td>0.0111211</td>\n",
       "    </tr>\n",
       "    <tr>\n",
       "      <th>4</th>\n",
       "      <td>0.981706</td>\n",
       "      <td>0.0354787</td>\n",
       "      <td>[0.961425846236, 0.999870077605, 0.983823026124]</td>\n",
       "      <td>(32, 17, 29, 22)</td>\n",
       "      <td>0.015766</td>\n",
       "      <td>0.0111482</td>\n",
       "    </tr>\n",
       "    <tr>\n",
       "      <th>5</th>\n",
       "      <td>0.981905</td>\n",
       "      <td>0.0348182</td>\n",
       "      <td>[0.962103975613, 0.999870077605, 0.983740636051]</td>\n",
       "      <td>(32, 15, 17, 22, 29)</td>\n",
       "      <td>0.0154725</td>\n",
       "      <td>0.0109407</td>\n",
       "    </tr>\n",
       "    <tr>\n",
       "      <th>6</th>\n",
       "      <td>0.981977</td>\n",
       "      <td>0.0346069</td>\n",
       "      <td>[0.962164183361, 0.99965142772, 0.984114560227]</td>\n",
       "      <td>(32, 15, 16, 17, 22, 29)</td>\n",
       "      <td>0.0153786</td>\n",
       "      <td>0.0108743</td>\n",
       "    </tr>\n",
       "    <tr>\n",
       "      <th>7</th>\n",
       "      <td>0.982021</td>\n",
       "      <td>0.0346568</td>\n",
       "      <td>[0.962164183361, 0.999698960304, 0.984200119149]</td>\n",
       "      <td>(32, 33, 15, 16, 17, 22, 29)</td>\n",
       "      <td>0.0154008</td>\n",
       "      <td>0.01089</td>\n",
       "    </tr>\n",
       "    <tr>\n",
       "      <th>8</th>\n",
       "      <td>0.982054</td>\n",
       "      <td>0.0347008</td>\n",
       "      <td>[0.962164183361, 0.999743324049, 0.984253989581]</td>\n",
       "      <td>(32, 33, 38, 15, 16, 17, 22, 29)</td>\n",
       "      <td>0.0154203</td>\n",
       "      <td>0.0109038</td>\n",
       "    </tr>\n",
       "    <tr>\n",
       "      <th>9</th>\n",
       "      <td>0.982088</td>\n",
       "      <td>0.0347294</td>\n",
       "      <td>[0.962161014532, 0.999762337082, 0.984339548502]</td>\n",
       "      <td>(15, 16, 17, 22, 26, 29, 32, 33, 38)</td>\n",
       "      <td>0.015433</td>\n",
       "      <td>0.0109128</td>\n",
       "    </tr>\n",
       "    <tr>\n",
       "      <th>10</th>\n",
       "      <td>0.982102</td>\n",
       "      <td>0.0347301</td>\n",
       "      <td>[0.962173689848, 0.999775012438, 0.984358561596]</td>\n",
       "      <td>(15, 16, 17, 22, 26, 29, 32, 33, 38, 48)</td>\n",
       "      <td>0.0154334</td>\n",
       "      <td>0.010913</td>\n",
       "    </tr>\n",
       "    <tr>\n",
       "      <th>11</th>\n",
       "      <td>0.982115</td>\n",
       "      <td>0.0347485</td>\n",
       "      <td>[0.962173689848, 0.999794025471, 0.98437757469]</td>\n",
       "      <td>(15, 16, 17, 22, 26, 29, 32, 33, 38, 39, 48)</td>\n",
       "      <td>0.0154415</td>\n",
       "      <td>0.0109188</td>\n",
       "    </tr>\n",
       "    <tr>\n",
       "      <th>12</th>\n",
       "      <td>0.982117</td>\n",
       "      <td>0.0347492</td>\n",
       "      <td>[0.962173689848, 0.999794025471, 0.984383912388]</td>\n",
       "      <td>(15, 16, 17, 22, 26, 29, 31, 32, 33, 38, 39, 48)</td>\n",
       "      <td>0.0154418</td>\n",
       "      <td>0.010919</td>\n",
       "    </tr>\n",
       "    <tr>\n",
       "      <th>13</th>\n",
       "      <td>0.982119</td>\n",
       "      <td>0.0347499</td>\n",
       "      <td>[0.962173689848, 0.999794025471, 0.984390250086]</td>\n",
       "      <td>(15, 16, 17, 22, 26, 28, 29, 31, 32, 33, 38, 3...</td>\n",
       "      <td>0.0154422</td>\n",
       "      <td>0.0109193</td>\n",
       "    </tr>\n",
       "    <tr>\n",
       "      <th>14</th>\n",
       "      <td>0.98212</td>\n",
       "      <td>0.0347455</td>\n",
       "      <td>[0.962173689848, 0.999787687793, 0.984399756632]</td>\n",
       "      <td>(9, 15, 16, 17, 22, 26, 28, 29, 31, 32, 33, 38...</td>\n",
       "      <td>0.0154402</td>\n",
       "      <td>0.0109179</td>\n",
       "    </tr>\n",
       "    <tr>\n",
       "      <th>15</th>\n",
       "      <td>0.982121</td>\n",
       "      <td>0.0347483</td>\n",
       "      <td>[0.962173689848, 0.999790856632, 0.984399756632]</td>\n",
       "      <td>(9, 15, 16, 17, 22, 26, 28, 29, 30, 31, 32, 33...</td>\n",
       "      <td>0.0154414</td>\n",
       "      <td>0.0109187</td>\n",
       "    </tr>\n",
       "    <tr>\n",
       "      <th>16</th>\n",
       "      <td>0.982121</td>\n",
       "      <td>0.0347483</td>\n",
       "      <td>[0.962173689848, 0.999790856632, 0.984399756632]</td>\n",
       "      <td>(9, 15, 16, 17, 22, 26, 28, 29, 30, 31, 32, 33...</td>\n",
       "      <td>0.0154414</td>\n",
       "      <td>0.0109187</td>\n",
       "    </tr>\n",
       "    <tr>\n",
       "      <th>17</th>\n",
       "      <td>0.982121</td>\n",
       "      <td>0.0347483</td>\n",
       "      <td>[0.962173689848, 0.999790856632, 0.984399756632]</td>\n",
       "      <td>(9, 15, 16, 17, 22, 26, 28, 29, 30, 31, 32, 33...</td>\n",
       "      <td>0.0154414</td>\n",
       "      <td>0.0109187</td>\n",
       "    </tr>\n",
       "    <tr>\n",
       "      <th>18</th>\n",
       "      <td>0.982124</td>\n",
       "      <td>0.0343849</td>\n",
       "      <td>[0.962509585707, 0.999784518954, 0.98407653404]</td>\n",
       "      <td>(9, 15, 16, 17, 18, 22, 26, 28, 29, 30, 31, 32...</td>\n",
       "      <td>0.01528</td>\n",
       "      <td>0.0108046</td>\n",
       "    </tr>\n",
       "    <tr>\n",
       "      <th>19</th>\n",
       "      <td>0.98236</td>\n",
       "      <td>0.0331519</td>\n",
       "      <td>[0.963694727703, 0.999708466821, 0.983677259072]</td>\n",
       "      <td>(9, 14, 15, 16, 17, 18, 22, 26, 28, 29, 30, 31...</td>\n",
       "      <td>0.014732</td>\n",
       "      <td>0.0104171</td>\n",
       "    </tr>\n",
       "    <tr>\n",
       "      <th>20</th>\n",
       "      <td>0.982449</td>\n",
       "      <td>0.0331227</td>\n",
       "      <td>[0.963739091307, 0.999705297982, 0.983902247348]</td>\n",
       "      <td>(9, 14, 15, 16, 17, 18, 21, 22, 26, 28, 29, 30...</td>\n",
       "      <td>0.0147191</td>\n",
       "      <td>0.0104079</td>\n",
       "    </tr>\n",
       "    <tr>\n",
       "      <th>21</th>\n",
       "      <td>0.982601</td>\n",
       "      <td>0.0328198</td>\n",
       "      <td>[0.964071818337, 0.99971163566, 0.984019494759]</td>\n",
       "      <td>(9, 14, 15, 16, 17, 18, 21, 22, 26, 28, 29, 30...</td>\n",
       "      <td>0.0145844</td>\n",
       "      <td>0.0103127</td>\n",
       "    </tr>\n",
       "    <tr>\n",
       "      <th>22</th>\n",
       "      <td>0.982632</td>\n",
       "      <td>0.0326346</td>\n",
       "      <td>[0.964261948069, 0.999714804498, 0.983918091592]</td>\n",
       "      <td>(0, 9, 14, 15, 16, 17, 18, 21, 22, 26, 28, 29,...</td>\n",
       "      <td>0.0145021</td>\n",
       "      <td>0.0102546</td>\n",
       "    </tr>\n",
       "    <tr>\n",
       "      <th>23</th>\n",
       "      <td>0.982753</td>\n",
       "      <td>0.0323374</td>\n",
       "      <td>[0.964575662127, 0.99971163566, 0.983971962025]</td>\n",
       "      <td>(0, 9, 14, 15, 16, 17, 18, 21, 22, 26, 28, 29,...</td>\n",
       "      <td>0.0143701</td>\n",
       "      <td>0.0101612</td>\n",
       "    </tr>\n",
       "    <tr>\n",
       "      <th>24</th>\n",
       "      <td>0.982837</td>\n",
       "      <td>0.0323672</td>\n",
       "      <td>[0.964575662127, 0.999727479854, 0.984206456847]</td>\n",
       "      <td>(0, 9, 14, 15, 16, 17, 18, 21, 22, 26, 28, 29,...</td>\n",
       "      <td>0.0143833</td>\n",
       "      <td>0.0101705</td>\n",
       "    </tr>\n",
       "    <tr>\n",
       "      <th>25</th>\n",
       "      <td>0.982891</td>\n",
       "      <td>0.0321787</td>\n",
       "      <td>[0.964768960688, 0.999724311015, 0.984181106055]</td>\n",
       "      <td>(0, 9, 14, 15, 16, 17, 18, 21, 22, 26, 28, 29,...</td>\n",
       "      <td>0.0142996</td>\n",
       "      <td>0.0101113</td>\n",
       "    </tr>\n",
       "    <tr>\n",
       "      <th>26</th>\n",
       "      <td>0.982946</td>\n",
       "      <td>0.0320048</td>\n",
       "      <td>[0.964943246275, 0.999714804498, 0.984181106055]</td>\n",
       "      <td>(0, 9, 14, 15, 16, 17, 18, 21, 22, 26, 28, 29,...</td>\n",
       "      <td>0.0142223</td>\n",
       "      <td>0.0100567</td>\n",
       "    </tr>\n",
       "    <tr>\n",
       "      <th>27</th>\n",
       "      <td>0.982985</td>\n",
       "      <td>0.0318877</td>\n",
       "      <td>[0.965063661772, 0.99971163566, 0.984181106055]</td>\n",
       "      <td>(0, 9, 14, 15, 16, 17, 18, 21, 22, 26, 28, 29,...</td>\n",
       "      <td>0.0141702</td>\n",
       "      <td>0.0100199</td>\n",
       "    </tr>\n",
       "    <tr>\n",
       "      <th>28</th>\n",
       "      <td>0.983032</td>\n",
       "      <td>0.031738</td>\n",
       "      <td>[0.965212596729, 0.999702129143, 0.984181106055]</td>\n",
       "      <td>(0, 9, 14, 15, 16, 17, 18, 21, 22, 26, 28, 29,...</td>\n",
       "      <td>0.0141037</td>\n",
       "      <td>0.00997284</td>\n",
       "    </tr>\n",
       "    <tr>\n",
       "      <th>29</th>\n",
       "      <td>0.983081</td>\n",
       "      <td>0.0315883</td>\n",
       "      <td>[0.965364700514, 0.999695791465, 0.984181106055]</td>\n",
       "      <td>(0, 9, 14, 15, 16, 17, 18, 21, 22, 26, 28, 29,...</td>\n",
       "      <td>0.0140372</td>\n",
       "      <td>0.0099258</td>\n",
       "    </tr>\n",
       "    <tr>\n",
       "      <th>30</th>\n",
       "      <td>0.983109</td>\n",
       "      <td>0.0314407</td>\n",
       "      <td>[0.965516804299, 0.999695791465, 0.984114560227]</td>\n",
       "      <td>(0, 9, 13, 14, 15, 16, 17, 18, 21, 22, 26, 28,...</td>\n",
       "      <td>0.0139716</td>\n",
       "      <td>0.00987942</td>\n",
       "    </tr>\n",
       "    <tr>\n",
       "      <th>31</th>\n",
       "      <td>0.983089</td>\n",
       "      <td>0.0309908</td>\n",
       "      <td>[0.965947765025, 0.999667271915, 0.983651908281]</td>\n",
       "      <td>(0, 1, 9, 13, 14, 15, 16, 17, 18, 21, 22, 26, ...</td>\n",
       "      <td>0.0137717</td>\n",
       "      <td>0.00973805</td>\n",
       "    </tr>\n",
       "    <tr>\n",
       "      <th>32</th>\n",
       "      <td>0.983215</td>\n",
       "      <td>0.0306853</td>\n",
       "      <td>[0.966239297281, 0.999626077009, 0.983778662239]</td>\n",
       "      <td>(0, 1, 4, 9, 13, 14, 15, 16, 17, 18, 21, 22, 2...</td>\n",
       "      <td>0.0136359</td>\n",
       "      <td>0.00964206</td>\n",
       "    </tr>\n",
       "    <tr>\n",
       "      <th>33</th>\n",
       "      <td>0.983356</td>\n",
       "      <td>0.0303563</td>\n",
       "      <td>[0.966562517825, 0.999591219781, 0.983914922743]</td>\n",
       "      <td>(0, 1, 2, 4, 9, 13, 14, 15, 16, 17, 18, 21, 22...</td>\n",
       "      <td>0.0134897</td>\n",
       "      <td>0.00953866</td>\n",
       "    </tr>\n",
       "    <tr>\n",
       "      <th>34</th>\n",
       "      <td>0.98331</td>\n",
       "      <td>0.030397</td>\n",
       "      <td>[0.966562517825, 0.999641921204, 0.983724791807]</td>\n",
       "      <td>(0, 1, 2, 4, 9, 13, 14, 15, 16, 17, 18, 21, 22...</td>\n",
       "      <td>0.0135078</td>\n",
       "      <td>0.00955146</td>\n",
       "    </tr>\n",
       "    <tr>\n",
       "      <th>35</th>\n",
       "      <td>0.983325</td>\n",
       "      <td>0.0303451</td>\n",
       "      <td>[0.966562517825, 0.999581713264, 0.983829363822]</td>\n",
       "      <td>(0, 1, 2, 4, 9, 13, 14, 15, 16, 17, 18, 21, 22...</td>\n",
       "      <td>0.0134848</td>\n",
       "      <td>0.00953516</td>\n",
       "    </tr>\n",
       "    <tr>\n",
       "      <th>36</th>\n",
       "      <td>0.983181</td>\n",
       "      <td>0.0304325</td>\n",
       "      <td>[0.966312180344, 0.99942010248, 0.983810350728]</td>\n",
       "      <td>(0, 1, 2, 4, 5, 9, 13, 14, 15, 16, 17, 18, 21,...</td>\n",
       "      <td>0.0135236</td>\n",
       "      <td>0.00956261</td>\n",
       "    </tr>\n",
       "    <tr>\n",
       "      <th>37</th>\n",
       "      <td>0.982979</td>\n",
       "      <td>0.0302845</td>\n",
       "      <td>[0.966378725751, 0.999340881508, 0.983217775975]</td>\n",
       "      <td>(0, 1, 2, 4, 5, 9, 10, 13, 14, 15, 16, 17, 18,...</td>\n",
       "      <td>0.0134578</td>\n",
       "      <td>0.0095161</td>\n",
       "    </tr>\n",
       "    <tr>\n",
       "      <th>38</th>\n",
       "      <td>0.98281</td>\n",
       "      <td>0.031021</td>\n",
       "      <td>[0.965672076914, 0.999426440158, 0.983331854537]</td>\n",
       "      <td>(0, 1, 2, 4, 5, 9, 10, 13, 14, 15, 16, 17, 18,...</td>\n",
       "      <td>0.0137851</td>\n",
       "      <td>0.00974754</td>\n",
       "    </tr>\n",
       "    <tr>\n",
       "      <th>39</th>\n",
       "      <td>0.982527</td>\n",
       "      <td>0.0300987</td>\n",
       "      <td>[0.965963609169, 0.998719789082, 0.982897722231]</td>\n",
       "      <td>(0, 1, 2, 4, 5, 7, 9, 10, 13, 14, 15, 16, 17, ...</td>\n",
       "      <td>0.0133752</td>\n",
       "      <td>0.00945771</td>\n",
       "    </tr>\n",
       "    <tr>\n",
       "      <th>40</th>\n",
       "      <td>0.982549</td>\n",
       "      <td>0.0317321</td>\n",
       "      <td>[0.96501296051, 0.999540518359, 0.983094190866]</td>\n",
       "      <td>(0, 1, 2, 4, 5, 7, 9, 10, 13, 14, 15, 16, 17, ...</td>\n",
       "      <td>0.0141011</td>\n",
       "      <td>0.00997097</td>\n",
       "    </tr>\n",
       "    <tr>\n",
       "      <th>41</th>\n",
       "      <td>0.982637</td>\n",
       "      <td>0.0313425</td>\n",
       "      <td>[0.965380544658, 0.999489816936, 0.983040320434]</td>\n",
       "      <td>(0, 1, 2, 4, 5, 6, 7, 9, 10, 13, 14, 15, 16, 1...</td>\n",
       "      <td>0.013928</td>\n",
       "      <td>0.00984856</td>\n",
       "    </tr>\n",
       "    <tr>\n",
       "      <th>42</th>\n",
       "      <td>0.982475</td>\n",
       "      <td>0.0306255</td>\n",
       "      <td>[0.965678414572, 0.999011322261, 0.982736110935]</td>\n",
       "      <td>(0, 1, 2, 4, 5, 6, 7, 9, 10, 13, 14, 15, 16, 1...</td>\n",
       "      <td>0.0136094</td>\n",
       "      <td>0.00962327</td>\n",
       "    </tr>\n",
       "    <tr>\n",
       "      <th>43</th>\n",
       "      <td>0.982466</td>\n",
       "      <td>0.0319959</td>\n",
       "      <td>[0.964737272399, 0.999546856036, 0.98311320396]</td>\n",
       "      <td>(0, 1, 2, 4, 5, 6, 7, 9, 10, 13, 14, 15, 16, 1...</td>\n",
       "      <td>0.0142183</td>\n",
       "      <td>0.0100539</td>\n",
       "    </tr>\n",
       "    <tr>\n",
       "      <th>44</th>\n",
       "      <td>0.982515</td>\n",
       "      <td>0.0315352</td>\n",
       "      <td>[0.965108025376, 0.999423271319, 0.983014969642]</td>\n",
       "      <td>(0, 1, 2, 4, 5, 6, 7, 9, 10, 13, 14, 15, 16, 1...</td>\n",
       "      <td>0.0140136</td>\n",
       "      <td>0.00990911</td>\n",
       "    </tr>\n",
       "    <tr>\n",
       "      <th>45</th>\n",
       "      <td>0.982334</td>\n",
       "      <td>0.0324566</td>\n",
       "      <td>[0.964274623385, 0.999575375587, 0.983151230147]</td>\n",
       "      <td>(0, 1, 2, 4, 5, 6, 7, 9, 10, 13, 14, 15, 16, 1...</td>\n",
       "      <td>0.0144231</td>\n",
       "      <td>0.0101986</td>\n",
       "    </tr>\n",
       "    <tr>\n",
       "      <th>46</th>\n",
       "      <td>0.982445</td>\n",
       "      <td>0.032174</td>\n",
       "      <td>[0.964588337442, 0.999588050942, 0.983157567845]</td>\n",
       "      <td>(0, 1, 2, 4, 5, 6, 7, 9, 10, 13, 14, 15, 16, 1...</td>\n",
       "      <td>0.0142975</td>\n",
       "      <td>0.0101098</td>\n",
       "    </tr>\n",
       "    <tr>\n",
       "      <th>47</th>\n",
       "      <td>0.982402</td>\n",
       "      <td>0.0317876</td>\n",
       "      <td>[0.964803817805, 0.999388414091, 0.983014969642]</td>\n",
       "      <td>(0, 1, 2, 4, 5, 6, 7, 9, 10, 12, 13, 14, 15, 1...</td>\n",
       "      <td>0.0141257</td>\n",
       "      <td>0.00998841</td>\n",
       "    </tr>\n",
       "    <tr>\n",
       "      <th>48</th>\n",
       "      <td>0.982282</td>\n",
       "      <td>0.0326978</td>\n",
       "      <td>[0.964052805364, 0.999610232815, 0.983182918637]</td>\n",
       "      <td>(0, 1, 2, 4, 5, 6, 7, 9, 10, 12, 13, 14, 15, 1...</td>\n",
       "      <td>0.0145302</td>\n",
       "      <td>0.0102744</td>\n",
       "    </tr>\n",
       "    <tr>\n",
       "      <th>49</th>\n",
       "      <td>0.982322</td>\n",
       "      <td>0.0323512</td>\n",
       "      <td>[0.964325324647, 0.999511998809, 0.983129048205]</td>\n",
       "      <td>(0, 1, 2, 4, 5, 6, 7, 8, 9, 10, 12, 13, 14, 15...</td>\n",
       "      <td>0.0143762</td>\n",
       "      <td>0.0101655</td>\n",
       "    </tr>\n",
       "    <tr>\n",
       "      <th>50</th>\n",
       "      <td>0.982154</td>\n",
       "      <td>0.0331637</td>\n",
       "      <td>[0.963596494008, 0.999648258881, 0.983217775975]</td>\n",
       "      <td>(0, 1, 2, 4, 5, 6, 7, 8, 9, 10, 12, 13, 14, 15...</td>\n",
       "      <td>0.0147373</td>\n",
       "      <td>0.0104208</td>\n",
       "    </tr>\n",
       "    <tr>\n",
       "      <th>51</th>\n",
       "      <td>0.982064</td>\n",
       "      <td>0.0329875</td>\n",
       "      <td>[0.963596494008, 0.999454959708, 0.9831417236]</td>\n",
       "      <td>(0, 1, 2, 4, 5, 6, 7, 8, 9, 10, 12, 13, 14, 15...</td>\n",
       "      <td>0.014659</td>\n",
       "      <td>0.0103655</td>\n",
       "    </tr>\n",
       "    <tr>\n",
       "      <th>52</th>\n",
       "      <td>0.981953</td>\n",
       "      <td>0.0337086</td>\n",
       "      <td>[0.963016598326, 0.999645090043, 0.983198762881]</td>\n",
       "      <td>(0, 1, 2, 4, 5, 6, 7, 8, 9, 10, 12, 13, 14, 15...</td>\n",
       "      <td>0.0149794</td>\n",
       "      <td>0.0105921</td>\n",
       "    </tr>\n",
       "    <tr>\n",
       "      <th>53</th>\n",
       "      <td>0.981833</td>\n",
       "      <td>0.0342338</td>\n",
       "      <td>[0.962487403905, 0.999657765398, 0.98335403648]</td>\n",
       "      <td>(0, 1, 2, 4, 5, 6, 7, 8, 9, 10, 12, 13, 14, 15...</td>\n",
       "      <td>0.0152128</td>\n",
       "      <td>0.0107571</td>\n",
       "    </tr>\n",
       "    <tr>\n",
       "      <th>54</th>\n",
       "      <td>0.981749</td>\n",
       "      <td>0.0345508</td>\n",
       "      <td>[0.962173689848, 0.999673609593, 0.983398400365]</td>\n",
       "      <td>(0, 1, 2, 4, 5, 6, 7, 8, 9, 10, 12, 13, 14, 15...</td>\n",
       "      <td>0.0153537</td>\n",
       "      <td>0.0108567</td>\n",
       "    </tr>\n",
       "    <tr>\n",
       "      <th>55</th>\n",
       "      <td>0.981754</td>\n",
       "      <td>0.0345622</td>\n",
       "      <td>[0.962173689848, 0.999686284948, 0.983401569214]</td>\n",
       "      <td>(0, 1, 2, 4, 5, 6, 7, 8, 9, 10, 12, 13, 14, 15...</td>\n",
       "      <td>0.0153587</td>\n",
       "      <td>0.0108602</td>\n",
       "    </tr>\n",
       "    <tr>\n",
       "      <th>56</th>\n",
       "      <td>0.981423</td>\n",
       "      <td>0.0344662</td>\n",
       "      <td>[0.962173689848, 0.999648258881, 0.982447745681]</td>\n",
       "      <td>(0, 1, 2, 4, 5, 6, 7, 8, 9, 10, 12, 13, 14, 15...</td>\n",
       "      <td>0.0153161</td>\n",
       "      <td>0.0108301</td>\n",
       "    </tr>\n",
       "    <tr>\n",
       "      <th>57</th>\n",
       "      <td>0.980697</td>\n",
       "      <td>0.034137</td>\n",
       "      <td>[0.962173689848, 0.999331374991, 0.9805844625]</td>\n",
       "      <td>(0, 1, 2, 4, 5, 6, 7, 8, 9, 10, 11, 12, 13, 14...</td>\n",
       "      <td>0.0151698</td>\n",
       "      <td>0.0107266</td>\n",
       "    </tr>\n",
       "    <tr>\n",
       "      <th>58</th>\n",
       "      <td>0.758835</td>\n",
       "      <td>0.707086</td>\n",
       "      <td>[0.962173689848, 0.999344050347, 0.314986754211]</td>\n",
       "      <td>(0, 1, 2, 3, 4, 5, 6, 7, 8, 9, 10, 11, 12, 13,...</td>\n",
       "      <td>0.314215</td>\n",
       "      <td>0.222183</td>\n",
       "    </tr>\n",
       "  </tbody>\n",
       "</table>\n",
       "</div>"
      ],
      "text/plain": [
       "   avg_score   ci_bound                                         cv_scores  \\\n",
       "1    0.97536  0.0506486    [0.945556351284, 0.999939792061, 0.9805844625]   \n",
       "2   0.978591  0.0408427  [0.955576188152, 0.999939792061, 0.980258071058]   \n",
       "3   0.981318  0.0353923  [0.961416339749, 0.999870077605, 0.982666396258]   \n",
       "4   0.981706  0.0354787  [0.961425846236, 0.999870077605, 0.983823026124]   \n",
       "5   0.981905  0.0348182  [0.962103975613, 0.999870077605, 0.983740636051]   \n",
       "6   0.981977  0.0346069   [0.962164183361, 0.99965142772, 0.984114560227]   \n",
       "7   0.982021  0.0346568  [0.962164183361, 0.999698960304, 0.984200119149]   \n",
       "8   0.982054  0.0347008  [0.962164183361, 0.999743324049, 0.984253989581]   \n",
       "9   0.982088  0.0347294  [0.962161014532, 0.999762337082, 0.984339548502]   \n",
       "10  0.982102  0.0347301  [0.962173689848, 0.999775012438, 0.984358561596]   \n",
       "11  0.982115  0.0347485   [0.962173689848, 0.999794025471, 0.98437757469]   \n",
       "12  0.982117  0.0347492  [0.962173689848, 0.999794025471, 0.984383912388]   \n",
       "13  0.982119  0.0347499  [0.962173689848, 0.999794025471, 0.984390250086]   \n",
       "14   0.98212  0.0347455  [0.962173689848, 0.999787687793, 0.984399756632]   \n",
       "15  0.982121  0.0347483  [0.962173689848, 0.999790856632, 0.984399756632]   \n",
       "16  0.982121  0.0347483  [0.962173689848, 0.999790856632, 0.984399756632]   \n",
       "17  0.982121  0.0347483  [0.962173689848, 0.999790856632, 0.984399756632]   \n",
       "18  0.982124  0.0343849   [0.962509585707, 0.999784518954, 0.98407653404]   \n",
       "19   0.98236  0.0331519  [0.963694727703, 0.999708466821, 0.983677259072]   \n",
       "20  0.982449  0.0331227  [0.963739091307, 0.999705297982, 0.983902247348]   \n",
       "21  0.982601  0.0328198   [0.964071818337, 0.99971163566, 0.984019494759]   \n",
       "22  0.982632  0.0326346  [0.964261948069, 0.999714804498, 0.983918091592]   \n",
       "23  0.982753  0.0323374   [0.964575662127, 0.99971163566, 0.983971962025]   \n",
       "24  0.982837  0.0323672  [0.964575662127, 0.999727479854, 0.984206456847]   \n",
       "25  0.982891  0.0321787  [0.964768960688, 0.999724311015, 0.984181106055]   \n",
       "26  0.982946  0.0320048  [0.964943246275, 0.999714804498, 0.984181106055]   \n",
       "27  0.982985  0.0318877   [0.965063661772, 0.99971163566, 0.984181106055]   \n",
       "28  0.983032   0.031738  [0.965212596729, 0.999702129143, 0.984181106055]   \n",
       "29  0.983081  0.0315883  [0.965364700514, 0.999695791465, 0.984181106055]   \n",
       "30  0.983109  0.0314407  [0.965516804299, 0.999695791465, 0.984114560227]   \n",
       "31  0.983089  0.0309908  [0.965947765025, 0.999667271915, 0.983651908281]   \n",
       "32  0.983215  0.0306853  [0.966239297281, 0.999626077009, 0.983778662239]   \n",
       "33  0.983356  0.0303563  [0.966562517825, 0.999591219781, 0.983914922743]   \n",
       "34   0.98331   0.030397  [0.966562517825, 0.999641921204, 0.983724791807]   \n",
       "35  0.983325  0.0303451  [0.966562517825, 0.999581713264, 0.983829363822]   \n",
       "36  0.983181  0.0304325   [0.966312180344, 0.99942010248, 0.983810350728]   \n",
       "37  0.982979  0.0302845  [0.966378725751, 0.999340881508, 0.983217775975]   \n",
       "38   0.98281   0.031021  [0.965672076914, 0.999426440158, 0.983331854537]   \n",
       "39  0.982527  0.0300987  [0.965963609169, 0.998719789082, 0.982897722231]   \n",
       "40  0.982549  0.0317321   [0.96501296051, 0.999540518359, 0.983094190866]   \n",
       "41  0.982637  0.0313425  [0.965380544658, 0.999489816936, 0.983040320434]   \n",
       "42  0.982475  0.0306255  [0.965678414572, 0.999011322261, 0.982736110935]   \n",
       "43  0.982466  0.0319959   [0.964737272399, 0.999546856036, 0.98311320396]   \n",
       "44  0.982515  0.0315352  [0.965108025376, 0.999423271319, 0.983014969642]   \n",
       "45  0.982334  0.0324566  [0.964274623385, 0.999575375587, 0.983151230147]   \n",
       "46  0.982445   0.032174  [0.964588337442, 0.999588050942, 0.983157567845]   \n",
       "47  0.982402  0.0317876  [0.964803817805, 0.999388414091, 0.983014969642]   \n",
       "48  0.982282  0.0326978  [0.964052805364, 0.999610232815, 0.983182918637]   \n",
       "49  0.982322  0.0323512  [0.964325324647, 0.999511998809, 0.983129048205]   \n",
       "50  0.982154  0.0331637  [0.963596494008, 0.999648258881, 0.983217775975]   \n",
       "51  0.982064  0.0329875    [0.963596494008, 0.999454959708, 0.9831417236]   \n",
       "52  0.981953  0.0337086  [0.963016598326, 0.999645090043, 0.983198762881]   \n",
       "53  0.981833  0.0342338   [0.962487403905, 0.999657765398, 0.98335403648]   \n",
       "54  0.981749  0.0345508  [0.962173689848, 0.999673609593, 0.983398400365]   \n",
       "55  0.981754  0.0345622  [0.962173689848, 0.999686284948, 0.983401569214]   \n",
       "56  0.981423  0.0344662  [0.962173689848, 0.999648258881, 0.982447745681]   \n",
       "57  0.980697   0.034137    [0.962173689848, 0.999331374991, 0.9805844625]   \n",
       "58  0.758835   0.707086  [0.962173689848, 0.999344050347, 0.314986754211]   \n",
       "\n",
       "                                          feature_idx    std_dev     std_err  \n",
       "1                                               (17,)  0.0225072    0.015915  \n",
       "2                                            (17, 22)  0.0181497   0.0128338  \n",
       "3                                        (32, 17, 22)  0.0157276   0.0111211  \n",
       "4                                    (32, 17, 29, 22)   0.015766   0.0111482  \n",
       "5                                (32, 15, 17, 22, 29)  0.0154725   0.0109407  \n",
       "6                            (32, 15, 16, 17, 22, 29)  0.0153786   0.0108743  \n",
       "7                        (32, 33, 15, 16, 17, 22, 29)  0.0154008     0.01089  \n",
       "8                    (32, 33, 38, 15, 16, 17, 22, 29)  0.0154203   0.0109038  \n",
       "9                (15, 16, 17, 22, 26, 29, 32, 33, 38)   0.015433   0.0109128  \n",
       "10           (15, 16, 17, 22, 26, 29, 32, 33, 38, 48)  0.0154334    0.010913  \n",
       "11       (15, 16, 17, 22, 26, 29, 32, 33, 38, 39, 48)  0.0154415   0.0109188  \n",
       "12   (15, 16, 17, 22, 26, 29, 31, 32, 33, 38, 39, 48)  0.0154418    0.010919  \n",
       "13  (15, 16, 17, 22, 26, 28, 29, 31, 32, 33, 38, 3...  0.0154422   0.0109193  \n",
       "14  (9, 15, 16, 17, 22, 26, 28, 29, 31, 32, 33, 38...  0.0154402   0.0109179  \n",
       "15  (9, 15, 16, 17, 22, 26, 28, 29, 30, 31, 32, 33...  0.0154414   0.0109187  \n",
       "16  (9, 15, 16, 17, 22, 26, 28, 29, 30, 31, 32, 33...  0.0154414   0.0109187  \n",
       "17  (9, 15, 16, 17, 22, 26, 28, 29, 30, 31, 32, 33...  0.0154414   0.0109187  \n",
       "18  (9, 15, 16, 17, 18, 22, 26, 28, 29, 30, 31, 32...    0.01528   0.0108046  \n",
       "19  (9, 14, 15, 16, 17, 18, 22, 26, 28, 29, 30, 31...   0.014732   0.0104171  \n",
       "20  (9, 14, 15, 16, 17, 18, 21, 22, 26, 28, 29, 30...  0.0147191   0.0104079  \n",
       "21  (9, 14, 15, 16, 17, 18, 21, 22, 26, 28, 29, 30...  0.0145844   0.0103127  \n",
       "22  (0, 9, 14, 15, 16, 17, 18, 21, 22, 26, 28, 29,...  0.0145021   0.0102546  \n",
       "23  (0, 9, 14, 15, 16, 17, 18, 21, 22, 26, 28, 29,...  0.0143701   0.0101612  \n",
       "24  (0, 9, 14, 15, 16, 17, 18, 21, 22, 26, 28, 29,...  0.0143833   0.0101705  \n",
       "25  (0, 9, 14, 15, 16, 17, 18, 21, 22, 26, 28, 29,...  0.0142996   0.0101113  \n",
       "26  (0, 9, 14, 15, 16, 17, 18, 21, 22, 26, 28, 29,...  0.0142223   0.0100567  \n",
       "27  (0, 9, 14, 15, 16, 17, 18, 21, 22, 26, 28, 29,...  0.0141702   0.0100199  \n",
       "28  (0, 9, 14, 15, 16, 17, 18, 21, 22, 26, 28, 29,...  0.0141037  0.00997284  \n",
       "29  (0, 9, 14, 15, 16, 17, 18, 21, 22, 26, 28, 29,...  0.0140372   0.0099258  \n",
       "30  (0, 9, 13, 14, 15, 16, 17, 18, 21, 22, 26, 28,...  0.0139716  0.00987942  \n",
       "31  (0, 1, 9, 13, 14, 15, 16, 17, 18, 21, 22, 26, ...  0.0137717  0.00973805  \n",
       "32  (0, 1, 4, 9, 13, 14, 15, 16, 17, 18, 21, 22, 2...  0.0136359  0.00964206  \n",
       "33  (0, 1, 2, 4, 9, 13, 14, 15, 16, 17, 18, 21, 22...  0.0134897  0.00953866  \n",
       "34  (0, 1, 2, 4, 9, 13, 14, 15, 16, 17, 18, 21, 22...  0.0135078  0.00955146  \n",
       "35  (0, 1, 2, 4, 9, 13, 14, 15, 16, 17, 18, 21, 22...  0.0134848  0.00953516  \n",
       "36  (0, 1, 2, 4, 5, 9, 13, 14, 15, 16, 17, 18, 21,...  0.0135236  0.00956261  \n",
       "37  (0, 1, 2, 4, 5, 9, 10, 13, 14, 15, 16, 17, 18,...  0.0134578   0.0095161  \n",
       "38  (0, 1, 2, 4, 5, 9, 10, 13, 14, 15, 16, 17, 18,...  0.0137851  0.00974754  \n",
       "39  (0, 1, 2, 4, 5, 7, 9, 10, 13, 14, 15, 16, 17, ...  0.0133752  0.00945771  \n",
       "40  (0, 1, 2, 4, 5, 7, 9, 10, 13, 14, 15, 16, 17, ...  0.0141011  0.00997097  \n",
       "41  (0, 1, 2, 4, 5, 6, 7, 9, 10, 13, 14, 15, 16, 1...   0.013928  0.00984856  \n",
       "42  (0, 1, 2, 4, 5, 6, 7, 9, 10, 13, 14, 15, 16, 1...  0.0136094  0.00962327  \n",
       "43  (0, 1, 2, 4, 5, 6, 7, 9, 10, 13, 14, 15, 16, 1...  0.0142183   0.0100539  \n",
       "44  (0, 1, 2, 4, 5, 6, 7, 9, 10, 13, 14, 15, 16, 1...  0.0140136  0.00990911  \n",
       "45  (0, 1, 2, 4, 5, 6, 7, 9, 10, 13, 14, 15, 16, 1...  0.0144231   0.0101986  \n",
       "46  (0, 1, 2, 4, 5, 6, 7, 9, 10, 13, 14, 15, 16, 1...  0.0142975   0.0101098  \n",
       "47  (0, 1, 2, 4, 5, 6, 7, 9, 10, 12, 13, 14, 15, 1...  0.0141257  0.00998841  \n",
       "48  (0, 1, 2, 4, 5, 6, 7, 9, 10, 12, 13, 14, 15, 1...  0.0145302   0.0102744  \n",
       "49  (0, 1, 2, 4, 5, 6, 7, 8, 9, 10, 12, 13, 14, 15...  0.0143762   0.0101655  \n",
       "50  (0, 1, 2, 4, 5, 6, 7, 8, 9, 10, 12, 13, 14, 15...  0.0147373   0.0104208  \n",
       "51  (0, 1, 2, 4, 5, 6, 7, 8, 9, 10, 12, 13, 14, 15...   0.014659   0.0103655  \n",
       "52  (0, 1, 2, 4, 5, 6, 7, 8, 9, 10, 12, 13, 14, 15...  0.0149794   0.0105921  \n",
       "53  (0, 1, 2, 4, 5, 6, 7, 8, 9, 10, 12, 13, 14, 15...  0.0152128   0.0107571  \n",
       "54  (0, 1, 2, 4, 5, 6, 7, 8, 9, 10, 12, 13, 14, 15...  0.0153537   0.0108567  \n",
       "55  (0, 1, 2, 4, 5, 6, 7, 8, 9, 10, 12, 13, 14, 15...  0.0153587   0.0108602  \n",
       "56  (0, 1, 2, 4, 5, 6, 7, 8, 9, 10, 12, 13, 14, 15...  0.0153161   0.0108301  \n",
       "57  (0, 1, 2, 4, 5, 6, 7, 8, 9, 10, 11, 12, 13, 14...  0.0151698   0.0107266  \n",
       "58  (0, 1, 2, 3, 4, 5, 6, 7, 8, 9, 10, 11, 12, 13,...   0.314215    0.222183  "
      ]
     },
     "execution_count": 35,
     "metadata": {},
     "output_type": "execute_result"
    }
   ],
   "source": [
    "pd.DataFrame.from_dict(sfs1.get_metric_dict()).T"
   ]
  },
  {
   "cell_type": "code",
   "execution_count": 91,
   "metadata": {},
   "outputs": [
    {
     "data": {
      "text/plain": [
       "57    (0, 1, 2, 4, 5, 6, 7, 8, 9, 10, 11, 12, 13, 14...\n",
       "58    (0, 1, 2, 3, 4, 5, 6, 7, 8, 9, 10, 11, 12, 13,...\n",
       "Name: feature_idx, dtype: object"
      ]
     },
     "execution_count": 91,
     "metadata": {},
     "output_type": "execute_result"
    }
   ],
   "source": [
    "pd.DataFrame.from_dict(sfs1.get_metric_dict()).T[56:58]['feature_idx']"
   ]
  },
  {
   "cell_type": "code",
   "execution_count": 38,
   "metadata": {},
   "outputs": [
    {
     "name": "stderr",
     "output_type": "stream",
     "text": [
      "/home/ubuntu/anaconda3/lib/python3.6/site-packages/matplotlib/font_manager.py:1297: UserWarning: findfont: Font family ['sans-serif'] not found. Falling back to DejaVu Sans\n",
      "  (prop.get_family(), self.defaultFamily[fontext]))\n"
     ]
    },
    {
     "data": {
      "image/png": "[encoded data removed]",
      "text/plain": [
       "<matplotlib.figure.Figure at 0x7f9150f4d6d8>"
      ]
     },
     "metadata": {},
     "output_type": "display_data"
    },
    {
     "data": {
      "image/png": "[encoded data removed]",
      "text/plain": [
       "<matplotlib.figure.Figure at 0x7f9150f5a7b8>"
      ]
     },
     "metadata": {},
     "output_type": "display_data"
    }
   ],
   "source": [
    "from mlxtend.plotting import plot_sequential_feature_selection as plot_sfs\n",
    "import matplotlib.pyplot as plt\n",
    "fig1 = plot_sfs(sfs1.get_metric_dict(), kind='std_err')\n",
    "plt.figure(num=10, figsize=(8, 6), dpi=80, facecolor='w', edgecolor='k')\n",
    "plt.ylim([0.8, 1])\n",
    "plt.rcParams[\"figure.figsize\"] = [16,9]\n",
    "plt.grid()\n",
    "plt.show()"
   ]
  },
  {
   "cell_type": "code",
   "execution_count": 42,
   "metadata": {},
   "outputs": [
    {
     "name": "stderr",
     "output_type": "stream",
     "text": [
      "/home/ubuntu/anaconda3/lib/python3.6/site-packages/matplotlib/font_manager.py:1297: UserWarning: findfont: Font family ['sans-serif'] not found. Falling back to DejaVu Sans\n",
      "  (prop.get_family(), self.defaultFamily[fontext]))\n"
     ]
    },
    {
     "data": {
      "image/png": "[encoded data removed]",
      "text/plain": [
       "<matplotlib.figure.Figure at 0x7f913d28d8d0>"
      ]
     },
     "metadata": {},
     "output_type": "display_data"
    }
   ],
   "source": [
    "from xgboost import plot_importance\n",
    "fig, ax = plt.subplots(figsize=(12,18))\n",
    "plot_importance(clf_xgb1, height=0.8, ax=ax)\n",
    "plt.show()"
   ]
  },
  {
   "cell_type": "code",
   "execution_count": 43,
   "metadata": {
    "collapsed": true
   },
   "outputs": [],
   "source": [
    "from sklearn.ensemble import ExtraTreesClassifier\n",
    "from sklearn.datasets import load_iris\n",
    "from sklearn.feature_selection import SelectFromModel\n",
    "clf = ExtraTreesClassifier()\n",
    "clf = clf.fit(X, y)\n",
    "clf.feature_importances_  \n",
    "model = SelectFromModel(clf, prefit=True)\n",
    "X_new = model.transform(X)"
   ]
  },
  {
   "cell_type": "code",
   "execution_count": 44,
   "metadata": {},
   "outputs": [
    {
     "data": {
      "text/plain": [
       "array([  9.09184304e-03,   3.39612535e-02,   5.63073150e-03,\n",
       "         2.04504374e-02,   1.73976266e-02,   1.03509109e-02,\n",
       "         1.00494413e-02,   2.74533342e-03,   1.94001422e-02,\n",
       "         3.92443829e-03,   4.84484774e-02,   2.16727051e-03,\n",
       "         3.13444781e-03,   1.26851124e-03,   1.01441872e-02,\n",
       "         7.59047003e-03,   6.79072117e-02,   6.51433377e-02,\n",
       "         2.27172479e-02,   1.31988985e-02,   3.94256294e-02,\n",
       "         1.37673040e-02,   1.71839104e-02,   3.80719359e-02,\n",
       "         7.40335637e-04,   3.25560573e-03,   1.14740899e-01,\n",
       "         1.98053100e-02,   6.63927925e-03,   9.30004165e-03,\n",
       "         6.53707760e-03,   1.66565668e-02,   3.96490023e-02,\n",
       "         7.97226868e-03,   7.30443536e-04,   5.35071990e-04,\n",
       "         2.88184504e-03,   1.65038932e-03,   2.12690754e-04,\n",
       "         5.26968224e-04,   1.62626108e-03,   1.81760821e-03,\n",
       "         1.87860846e-04,   0.00000000e+00,   9.15450345e-04,\n",
       "         1.47563004e-03,   1.39130602e-02,   2.86422650e-03,\n",
       "         4.25815817e-02,   0.00000000e+00,   7.08239181e-06,\n",
       "         1.75737162e-05,   1.62962600e-03,   5.43354523e-02,\n",
       "         1.62388527e-01,   1.48836840e-04,   7.50269999e-04,\n",
       "         3.36159585e-04])"
      ]
     },
     "execution_count": 44,
     "metadata": {},
     "output_type": "execute_result"
    }
   ],
   "source": [
    "clf.feature_importances_  "
   ]
  },
  {
   "cell_type": "code",
   "execution_count": 45,
   "metadata": {
    "collapsed": true
   },
   "outputs": [],
   "source": [
    "nX_train, nX_test, ny_train, ny_test = train_test_split(X_new, y, random_state=42, stratify=y, test_size=0.25)"
   ]
  },
  {
   "cell_type": "markdown",
   "metadata": {},
   "source": [
    "# Naive Bayes on entire data with stratification on 'hod'"
   ]
  },
  {
   "cell_type": "code",
   "execution_count": 57,
   "metadata": {},
   "outputs": [
    {
     "name": "stdout",
     "output_type": "stream",
     "text": [
      "GaussianNB(priors=None)\n",
      "             precision    recall  f1-score   support\n",
      "\n",
      "      False       0.98      0.99      0.99    223205\n",
      "       True       0.87      0.70      0.77     13475\n",
      "\n",
      "avg / total       0.98      0.98      0.98    236680\n",
      "\n",
      "[[221755   1450]\n",
      " [  4074   9401]]\n",
      "CPU times: user 644 ms, sys: 44 ms, total: 688 ms\n",
      "Wall time: 682 ms\n"
     ]
    }
   ],
   "source": [
    "%%time\n",
    "from sklearn.naive_bayes import GaussianNB\n",
    "from sklearn import metrics\n",
    "clf = GaussianNB()\n",
    "clf.fit(nX_train, ny_train)\n",
    "\n",
    "print(clf)\n",
    "# make predictions\n",
    "ny_p1 = clf.predict(nX_test)\n",
    "# summarize the fit of the model\n",
    "print(metrics.classification_report(ny_test, ny_p1))\n",
    "print(metrics.confusion_matrix(ny_test, ny_p1))"
   ]
  },
  {
   "cell_type": "markdown",
   "metadata": {},
   "source": [
    "# Splitting Dataframe based on 'hod' and then stratifying on 'EVENT'"
   ]
  },
  {
   "cell_type": "code",
   "execution_count": 58,
   "metadata": {
    "collapsed": true
   },
   "outputs": [],
   "source": [
    "compData = X\n",
    "compData['EVENT'] = pdata['EVENT'] == 'Attack'"
   ]
  },
  {
   "cell_type": "code",
   "execution_count": 59,
   "metadata": {},
   "outputs": [
    {
     "data": {
      "text/plain": [
       "449919    False\n",
       "449920    False\n",
       "449921    False\n",
       "449922    False\n",
       "449923    False\n",
       "449924    False\n",
       "449925    False\n",
       "449926    False\n",
       "449927    False\n",
       "449928    False\n",
       "449929    False\n",
       "449930    False\n",
       "449931    False\n",
       "449932    False\n",
       "449933    False\n",
       "449934    False\n",
       "449935    False\n",
       "449936    False\n",
       "449937    False\n",
       "449938    False\n",
       "449939    False\n",
       "449940    False\n",
       "449941    False\n",
       "449942    False\n",
       "449943    False\n",
       "449944    False\n",
       "449945    False\n",
       "449946    False\n",
       "449947    False\n",
       "449948    False\n",
       "          ...  \n",
       "449889    False\n",
       "449890    False\n",
       "449891    False\n",
       "449892    False\n",
       "449893    False\n",
       "449894    False\n",
       "449895    False\n",
       "449896    False\n",
       "449897    False\n",
       "449898    False\n",
       "449899    False\n",
       "449900    False\n",
       "449901    False\n",
       "449902    False\n",
       "449903    False\n",
       "449904    False\n",
       "449905    False\n",
       "449906    False\n",
       "449907    False\n",
       "449908    False\n",
       "449909    False\n",
       "449910    False\n",
       "449911    False\n",
       "449912    False\n",
       "449913    False\n",
       "449914    False\n",
       "449915    False\n",
       "449916    False\n",
       "449917    False\n",
       "449918    False\n",
       "Name: EVENT, Length: 946719, dtype: bool"
      ]
     },
     "execution_count": 59,
     "metadata": {},
     "output_type": "execute_result"
    }
   ],
   "source": [
    "compData.EVENT"
   ]
  },
  {
   "cell_type": "code",
   "execution_count": 60,
   "metadata": {
    "collapsed": true
   },
   "outputs": [],
   "source": [
    "compData.sort_values(['hod'], inplace=True)"
   ]
  },
  {
   "cell_type": "code",
   "execution_count": 61,
   "metadata": {
    "collapsed": true
   },
   "outputs": [],
   "source": [
    "data0to4 = compData[compData.hod < 5]\n",
    "data4to8 = compData[(compData.hod >4) & (compData.hod < 9)]\n",
    "data8to12 = compData[(compData.hod >8) & (compData.hod < 13)]\n",
    "data12t016 = compData[(compData.hod >12) & (compData.hod < 17)]\n",
    "data16to20 = compData[(compData.hod >16) & (compData.hod < 21)]\n",
    "data20to24 = compData[compData.hod >20]"
   ]
  },
  {
   "cell_type": "code",
   "execution_count": 62,
   "metadata": {},
   "outputs": [
    {
     "name": "stdout",
     "output_type": "stream",
     "text": [
      "198000\n",
      "158400\n",
      "158400\n",
      "154800\n",
      "158400\n",
      "118719\n",
      "946719\n",
      "946719\n"
     ]
    }
   ],
   "source": [
    "print(len(data0to4))\n",
    "print(len(data4to8))\n",
    "print(len(data8to12))\n",
    "print(len(data12t016))\n",
    "print(len(data16to20))\n",
    "print(len(data20to24))\n",
    "print(len(data0to4)+len(data4to8)+len(data8to12)+len(data12t016)+len(data16to20)+len(data20to24))\n",
    "print(len(compData))"
   ]
  },
  {
   "cell_type": "code",
   "execution_count": 63,
   "metadata": {
    "collapsed": true
   },
   "outputs": [],
   "source": [
    "from time import time\n",
    "from sklearn.model_selection import train_test_split\n",
    "\n",
    "datatrain1, datatest1, ytrain1, ytest1 = train_test_split(data0to4.drop(['EVENT'],axis =1),data0to4['EVENT'], random_state=42, stratify=data0to4['EVENT'], test_size=0.25)\n",
    "datatrain2, datatest2, ytrain2, ytest2 = train_test_split(data4to8.drop(['EVENT'],axis =1), data4to8['EVENT'], random_state=42, stratify=data4to8['EVENT'], test_size=0.25)\n",
    "datatrain3, datatest3, ytrain3, ytest3 = train_test_split(data8to12.drop(['EVENT'],axis =1), data8to12['EVENT'], random_state=42, stratify=data8to12['EVENT'], test_size=0.25)\n",
    "datatrain4, datatest4, ytrain4, ytest4 = train_test_split(data12t016.drop(['EVENT'],axis =1), data12t016['EVENT'], random_state=42, stratify=data12t016['EVENT'], test_size=0.25)\n",
    "datatrain5, datatest5, ytrain5, ytest5 = train_test_split(data16to20.drop(['EVENT'],axis =1), data16to20['EVENT'], random_state=42, stratify=data16to20['EVENT'], test_size=0.25)\n",
    "datatrain6, datatest6, ytrain6, ytest6 = train_test_split(data20to24.drop(['EVENT'],axis =1), data20to24['EVENT'], random_state=42, stratify=data20to24['EVENT'], test_size=0.25)\n"
   ]
  },
  {
   "cell_type": "markdown",
   "metadata": {},
   "source": [
    "# Naive Bayes"
   ]
  },
  {
   "cell_type": "code",
   "execution_count": 64,
   "metadata": {},
   "outputs": [
    {
     "name": "stdout",
     "output_type": "stream",
     "text": [
      "GaussianNB(priors=None)\n",
      "             precision    recall  f1-score   support\n",
      "\n",
      "      False       0.98      1.00      0.99     45983\n",
      "       True       1.00      0.77      0.87      3517\n",
      "\n",
      "avg / total       0.98      0.98      0.98     49500\n",
      "\n",
      "[[45983     0]\n",
      " [  814  2703]]\n"
     ]
    }
   ],
   "source": [
    "clf = GaussianNB()\n",
    "clf.fit(datatrain1, ytrain1)\n",
    "\n",
    "print(clf)\n",
    "# make predictions\n",
    "y_p1 = clf.predict(datatest1)\n",
    "# summarize the fit of the model\n",
    "print(metrics.classification_report(ytest1, y_p1))\n",
    "print(metrics.confusion_matrix(ytest1, y_p1))"
   ]
  },
  {
   "cell_type": "code",
   "execution_count": 65,
   "metadata": {},
   "outputs": [
    {
     "name": "stdout",
     "output_type": "stream",
     "text": [
      "GaussianNB(priors=None)\n",
      "             precision    recall  f1-score   support\n",
      "\n",
      "      False       1.00      1.00      1.00     36000\n",
      "       True       1.00      1.00      1.00      3600\n",
      "\n",
      "avg / total       1.00      1.00      1.00     39600\n",
      "\n",
      "[[36000     0]\n",
      " [    0  3600]]\n"
     ]
    }
   ],
   "source": [
    "clf = GaussianNB()\n",
    "clf.fit(datatrain1, ytrain1)\n",
    "\n",
    "print(clf)\n",
    "# make predictions\n",
    "y_p1 = clf.predict(datatest2)\n",
    "# summarize the fit of the model\n",
    "print(metrics.classification_report(ytest2, y_p1))\n",
    "print(metrics.confusion_matrix(ytest2, y_p1))"
   ]
  },
  {
   "cell_type": "code",
   "execution_count": 66,
   "metadata": {},
   "outputs": [
    {
     "name": "stdout",
     "output_type": "stream",
     "text": [
      "GaussianNB(priors=None)\n",
      "             precision    recall  f1-score   support\n",
      "\n",
      "      False       0.96      1.00      0.98     35892\n",
      "       True       0.98      0.62      0.76      3708\n",
      "\n",
      "avg / total       0.96      0.96      0.96     39600\n",
      "\n",
      "[[35855    37]\n",
      " [ 1420  2288]]\n"
     ]
    }
   ],
   "source": [
    "clf = GaussianNB()\n",
    "clf.fit(datatrain1, ytrain1)\n",
    "\n",
    "print(clf)\n",
    "# make predictions\n",
    "y_p1 = clf.predict(datatest3)\n",
    "# summarize the fit of the model\n",
    "print(metrics.classification_report(ytest3, y_p1))\n",
    "print(metrics.confusion_matrix(ytest3, y_p1))"
   ]
  },
  {
   "cell_type": "code",
   "execution_count": 67,
   "metadata": {},
   "outputs": [
    {
     "name": "stdout",
     "output_type": "stream",
     "text": [
      "GaussianNB(priors=None)\n",
      "             precision    recall  f1-score   support\n",
      "\n",
      "      False       0.97      1.00      0.98     37243\n",
      "       True       0.96      0.13      0.22      1457\n",
      "\n",
      "avg / total       0.97      0.97      0.95     38700\n",
      "\n",
      "[[37236     7]\n",
      " [ 1272   185]]\n"
     ]
    }
   ],
   "source": [
    "clf = GaussianNB()\n",
    "clf.fit(datatrain1, ytrain1)\n",
    "\n",
    "print(clf)\n",
    "# make predictions\n",
    "y_p1 = clf.predict(datatest4)\n",
    "# summarize the fit of the model\n",
    "print(metrics.classification_report(ytest4, y_p1))\n",
    "print(metrics.confusion_matrix(ytest4, y_p1))"
   ]
  },
  {
   "cell_type": "code",
   "execution_count": 76,
   "metadata": {},
   "outputs": [
    {
     "name": "stdout",
     "output_type": "stream",
     "text": [
      "GaussianNB(priors=None)\n",
      "             precision    recall  f1-score   support\n",
      "\n",
      "      False       0.99      0.59      0.74     38750\n",
      "       True       0.03      0.66      0.06       850\n",
      "\n",
      "avg / total       0.97      0.59      0.72     39600\n",
      "\n",
      "[[22834 15916]\n",
      " [  293   557]]\n"
     ]
    }
   ],
   "source": [
    "clf = GaussianNB()\n",
    "clf.fit(datatrain4, ytrain4)\n",
    "\n",
    "print(clf)\n",
    "# make predictions\n",
    "y_p1 = clf.predict(datatest5)\n",
    "# summarize the fit of the model\n",
    "print(metrics.classification_report(ytest5, y_p1))\n",
    "print(metrics.confusion_matrix(ytest5, y_p1))"
   ]
  },
  {
   "cell_type": "code",
   "execution_count": 69,
   "metadata": {},
   "outputs": [
    {
     "name": "stdout",
     "output_type": "stream",
     "text": [
      "GaussianNB(priors=None)\n",
      "             precision    recall  f1-score   support\n",
      "\n",
      "      False       0.99      1.00      1.00     29337\n",
      "       True       0.96      0.32      0.48       343\n",
      "\n",
      "avg / total       0.99      0.99      0.99     29680\n",
      "\n",
      "[[29333     4]\n",
      " [  234   109]]\n"
     ]
    }
   ],
   "source": [
    "clf = GaussianNB()\n",
    "clf.fit(datatrain1, ytrain1)\n",
    "\n",
    "print(clf)\n",
    "# make predictions\n",
    "y_p1 = clf.predict(datatest6)\n",
    "# summarize the fit of the model\n",
    "print(metrics.classification_report(ytest6, y_p1))\n",
    "print(metrics.confusion_matrix(ytest6, y_p1))"
   ]
  },
  {
   "cell_type": "markdown",
   "metadata": {},
   "source": [
    "# Logistic Regression"
   ]
  },
  {
   "cell_type": "code",
   "execution_count": 70,
   "metadata": {},
   "outputs": [
    {
     "name": "stdout",
     "output_type": "stream",
     "text": [
      "0.998080808081\n",
      "             precision    recall  f1-score   support\n",
      "\n",
      "      False       1.00      1.00      1.00     45983\n",
      "       True       0.99      0.99      0.99      3517\n",
      "\n",
      "avg / total       1.00      1.00      1.00     49500\n",
      "\n"
     ]
    }
   ],
   "source": [
    "from sklearn.linear_model import LogisticRegression\n",
    "from sklearn.metrics import accuracy_score\n",
    "from sklearn.metrics import classification_report\n",
    "\n",
    "logistic = LogisticRegression()\n",
    "logistic.fit(datatrain1, ytrain1)\n",
    "y_p1_lr = logistic.predict(datatest1)\n",
    "\n",
    "print (accuracy_score(ytest1, y_p1_lr))\n",
    "print (classification_report(ytest1, y_p1_lr))"
   ]
  },
  {
   "cell_type": "code",
   "execution_count": 71,
   "metadata": {},
   "outputs": [
    {
     "name": "stdout",
     "output_type": "stream",
     "text": [
      "0.811843434343\n",
      "             precision    recall  f1-score   support\n",
      "\n",
      "      False       1.00      0.79      0.88     36000\n",
      "       True       0.33      1.00      0.49      3600\n",
      "\n",
      "avg / total       0.94      0.81      0.85     39600\n",
      "\n"
     ]
    }
   ],
   "source": [
    "logistic = LogisticRegression()\n",
    "logistic.fit(datatrain1, ytrain1)\n",
    "y_p1_lr = logistic.predict(datatest2)\n",
    "\n",
    "print (accuracy_score(ytest2, y_p1_lr))\n",
    "print (classification_report(ytest2, y_p1_lr))"
   ]
  },
  {
   "cell_type": "code",
   "execution_count": 72,
   "metadata": {},
   "outputs": [
    {
     "name": "stdout",
     "output_type": "stream",
     "text": [
      "0.953055555556\n",
      "             precision    recall  f1-score   support\n",
      "\n",
      "      False       0.96      0.99      0.97     35892\n",
      "       True       0.91      0.55      0.69      3708\n",
      "\n",
      "avg / total       0.95      0.95      0.95     39600\n",
      "\n"
     ]
    }
   ],
   "source": [
    "logistic = LogisticRegression()\n",
    "logistic.fit(datatrain2, ytrain2)\n",
    "y_p1_lr = logistic.predict(datatest3)\n",
    "\n",
    "print (accuracy_score(ytest3, y_p1_lr))\n",
    "print (classification_report(ytest3, y_p1_lr))"
   ]
  },
  {
   "cell_type": "code",
   "execution_count": 73,
   "metadata": {},
   "outputs": [
    {
     "name": "stdout",
     "output_type": "stream",
     "text": [
      "0.930620155039\n",
      "             precision    recall  f1-score   support\n",
      "\n",
      "      False       0.96      0.96      0.96     37243\n",
      "       True       0.09      0.10      0.09      1457\n",
      "\n",
      "avg / total       0.93      0.93      0.93     38700\n",
      "\n"
     ]
    }
   ],
   "source": [
    "logistic = LogisticRegression()\n",
    "logistic.fit(datatrain3, ytrain3)\n",
    "y_p1_lr = logistic.predict(datatest4)\n",
    "\n",
    "print (accuracy_score(ytest4, y_p1_lr))\n",
    "print (classification_report(ytest4, y_p1_lr))"
   ]
  },
  {
   "cell_type": "code",
   "execution_count": 74,
   "metadata": {},
   "outputs": [
    {
     "name": "stdout",
     "output_type": "stream",
     "text": [
      "0.986944444444\n",
      "             precision    recall  f1-score   support\n",
      "\n",
      "      False       0.99      1.00      0.99     38750\n",
      "       True       0.96      0.41      0.57       850\n",
      "\n",
      "avg / total       0.99      0.99      0.98     39600\n",
      "\n"
     ]
    }
   ],
   "source": [
    "logistic = LogisticRegression()\n",
    "logistic.fit(datatrain4, ytrain4)\n",
    "y_p1_lr = logistic.predict(datatest5)\n",
    "\n",
    "print (accuracy_score(ytest5, y_p1_lr))\n",
    "print (classification_report(ytest5, y_p1_lr))"
   ]
  },
  {
   "cell_type": "code",
   "execution_count": 75,
   "metadata": {},
   "outputs": [
    {
     "name": "stdout",
     "output_type": "stream",
     "text": [
      "0.987836927224\n",
      "             precision    recall  f1-score   support\n",
      "\n",
      "      False       0.99      1.00      0.99     29337\n",
      "       True       0.00      0.00      0.00       343\n",
      "\n",
      "avg / total       0.98      0.99      0.98     29680\n",
      "\n"
     ]
    }
   ],
   "source": [
    "logistic = LogisticRegression()\n",
    "logistic.fit(datatrain5, ytrain5)\n",
    "y_p1_lr = logistic.predict(datatest6)\n",
    "\n",
    "print (accuracy_score(ytest6, y_p1_lr))\n",
    "print (classification_report(ytest6, y_p1_lr))"
   ]
  },
  {
   "cell_type": "code",
   "execution_count": null,
   "metadata": {
    "collapsed": true
   },
   "outputs": [],
   "source": [
    "datatest6.shape"
   ]
  },
  {
   "cell_type": "markdown",
   "metadata": {},
   "source": [
    "# XGBoost"
   ]
  },
  {
   "cell_type": "code",
   "execution_count": null,
   "metadata": {
    "collapsed": true
   },
   "outputs": [],
   "source": [
    "%%time\n",
    "from sklearn.metrics import mean_absolute_error\n",
    "from sklearn.metrics import make_scorer\n",
    "from sklearn.model_selection import GridSearchCV\n",
    "\n",
    "def get_model(estimator, parameters, X_train, y_train, scoring):  \n",
    "    model = GridSearchCV(estimator, param_grid=parameters, scoring=scoring)\n",
    "    model.fit(X_train, y_train)\n",
    "    return model.best_estimator_\n",
    "\n",
    "from sklearn.model_selection import learning_curve\n",
    "scoring = make_scorer(mean_absolute_error, greater_is_better=False)\n",
    "\n",
    "import warnings\n",
    "warnings.filterwarnings(\"ignore\", category=DeprecationWarning) \n",
    "import xgboost as XGB\n",
    "xgb = XGB.XGBClassifier(seed=42, max_depth=3, objective='binary:logistic', n_estimators=400)\n",
    "parameters = {'learning_rate':[0.1], 'reg_alpha':[3.0], 'reg_lambda': [4.0]}\n"
   ]
  },
  {
   "cell_type": "code",
   "execution_count": null,
   "metadata": {
    "collapsed": true
   },
   "outputs": [],
   "source": [
    "clf_xgb1 = get_model(xgb, parameters, datatrain1, ytrain1, scoring)\n",
    "print (confusion_matrix(ytest1, clf_xgb1.predict(datatest1)))\n",
    "print (classification_report(ytest1, clf_xgb1.predict(datatest1)))\n",
    "print (accuracy_score(ytest1, clf_xgb1.predict(datatest1)))"
   ]
  }
 ],
 "metadata": {
  "celltoolbar": "Raw Cell Format",
  "kernelspec": {
   "display_name": "Python 3",
   "language": "python",
   "name": "python3"
  },
  "language_info": {
   "codemirror_mode": {
    "name": "ipython",
    "version": 3
   },
   "file_extension": ".py",
   "mimetype": "text/x-python",
   "name": "python",
   "nbconvert_exporter": "python",
   "pygments_lexer": "ipython3",
   "version": "3.6.1"
  }
 },
 "nbformat": 4,
 "nbformat_minor": 2
}
