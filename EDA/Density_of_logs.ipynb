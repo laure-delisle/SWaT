{
 "cells": [
  {
   "cell_type": "code",
   "execution_count": 1,
   "metadata": {
    "collapsed": true
   },
   "outputs": [],
   "source": [
    "import pandas as pd\n",
    "import matplotlib.pyplot as plt\n",
    "%matplotlib inline"
   ]
  },
  {
   "cell_type": "code",
   "execution_count": 2,
   "metadata": {
    "collapsed": true
   },
   "outputs": [],
   "source": [
    "data = pd.read_csv(\"/data/SWaT_Dataset/Network/merged_logs1\", header=None)"
   ]
  },
  {
   "cell_type": "code",
   "execution_count": 3,
   "metadata": {},
   "outputs": [
    {
     "data": {
      "text/plain": [
       "0    object\n",
       "1    object\n",
       "dtype: object"
      ]
     },
     "execution_count": 3,
     "metadata": {},
     "output_type": "execute_result"
    }
   ],
   "source": [
    "data.dtypes"
   ]
  },
  {
   "cell_type": "code",
   "execution_count": 4,
   "metadata": {},
   "outputs": [
    {
     "data": {
      "text/html": [
       "<div>\n",
       "<style>\n",
       "    .dataframe thead tr:only-child th {\n",
       "        text-align: right;\n",
       "    }\n",
       "\n",
       "    .dataframe thead th {\n",
       "        text-align: left;\n",
       "    }\n",
       "\n",
       "    .dataframe tbody tr th {\n",
       "        vertical-align: top;\n",
       "    }\n",
       "</style>\n",
       "<table border=\"1\" class=\"dataframe\">\n",
       "  <thead>\n",
       "    <tr style=\"text-align: right;\">\n",
       "      <th></th>\n",
       "      <th>0</th>\n",
       "      <th>1</th>\n",
       "    </tr>\n",
       "  </thead>\n",
       "  <tbody>\n",
       "    <tr>\n",
       "      <th>0</th>\n",
       "      <td>22Dec2015</td>\n",
       "      <td>5:51:45</td>\n",
       "    </tr>\n",
       "    <tr>\n",
       "      <th>1</th>\n",
       "      <td>22Dec2015</td>\n",
       "      <td>5:51:45</td>\n",
       "    </tr>\n",
       "    <tr>\n",
       "      <th>2</th>\n",
       "      <td>22Dec2015</td>\n",
       "      <td>5:51:45</td>\n",
       "    </tr>\n",
       "    <tr>\n",
       "      <th>3</th>\n",
       "      <td>22Dec2015</td>\n",
       "      <td>5:51:45</td>\n",
       "    </tr>\n",
       "    <tr>\n",
       "      <th>4</th>\n",
       "      <td>22Dec2015</td>\n",
       "      <td>5:51:45</td>\n",
       "    </tr>\n",
       "  </tbody>\n",
       "</table>\n",
       "</div>"
      ],
      "text/plain": [
       "           0        1\n",
       "0  22Dec2015  5:51:45\n",
       "1  22Dec2015  5:51:45\n",
       "2  22Dec2015  5:51:45\n",
       "3  22Dec2015  5:51:45\n",
       "4  22Dec2015  5:51:45"
      ]
     },
     "execution_count": 4,
     "metadata": {},
     "output_type": "execute_result"
    }
   ],
   "source": [
    "data.head()"
   ]
  },
  {
   "cell_type": "code",
   "execution_count": 5,
   "metadata": {},
   "outputs": [
    {
     "data": {
      "text/html": [
       "<div>\n",
       "<style>\n",
       "    .dataframe thead tr:only-child th {\n",
       "        text-align: right;\n",
       "    }\n",
       "\n",
       "    .dataframe thead th {\n",
       "        text-align: left;\n",
       "    }\n",
       "\n",
       "    .dataframe tbody tr th {\n",
       "        vertical-align: top;\n",
       "    }\n",
       "</style>\n",
       "<table border=\"1\" class=\"dataframe\">\n",
       "  <thead>\n",
       "    <tr style=\"text-align: right;\">\n",
       "      <th></th>\n",
       "      <th>0</th>\n",
       "      <th>1</th>\n",
       "    </tr>\n",
       "  </thead>\n",
       "  <tbody>\n",
       "    <tr>\n",
       "      <th>48021257</th>\n",
       "      <td>1Jan2016</td>\n",
       "      <td>18:52:39</td>\n",
       "    </tr>\n",
       "    <tr>\n",
       "      <th>48021258</th>\n",
       "      <td>1Jan2016</td>\n",
       "      <td>18:52:39</td>\n",
       "    </tr>\n",
       "    <tr>\n",
       "      <th>48021259</th>\n",
       "      <td>1Jan2016</td>\n",
       "      <td>18:52:39</td>\n",
       "    </tr>\n",
       "    <tr>\n",
       "      <th>48021260</th>\n",
       "      <td>1Jan2016</td>\n",
       "      <td>18:52:39</td>\n",
       "    </tr>\n",
       "    <tr>\n",
       "      <th>48021261</th>\n",
       "      <td>1Jan2016</td>\n",
       "      <td>18:52:39</td>\n",
       "    </tr>\n",
       "  </tbody>\n",
       "</table>\n",
       "</div>"
      ],
      "text/plain": [
       "                 0         1\n",
       "48021257  1Jan2016  18:52:39\n",
       "48021258  1Jan2016  18:52:39\n",
       "48021259  1Jan2016  18:52:39\n",
       "48021260  1Jan2016  18:52:39\n",
       "48021261  1Jan2016  18:52:39"
      ]
     },
     "execution_count": 5,
     "metadata": {},
     "output_type": "execute_result"
    }
   ],
   "source": [
    "data.tail()"
   ]
  },
  {
   "cell_type": "code",
   "execution_count": 7,
   "metadata": {},
   "outputs": [
    {
     "data": {
      "text/plain": [
       "(48021262, 2)"
      ]
     },
     "execution_count": 7,
     "metadata": {},
     "output_type": "execute_result"
    }
   ],
   "source": [
    "data.shape"
   ]
  },
  {
   "cell_type": "code",
   "execution_count": 16,
   "metadata": {},
   "outputs": [
    {
     "data": {
      "text/plain": [
       "24Dec2015    3939982\n",
       "1Jan2016     6000000\n",
       "29Dec2015    2939690\n",
       "31Dec2015    5000000\n",
       "27Dec2015    4379720\n",
       "23Dec2015    5440038\n",
       "26Dec2015    2940231\n",
       "28Dec2015    2500000\n",
       "30Dec2015    5439768\n",
       "22Dec2015    4441833\n",
       "25Dec2015    5000000\n",
       "Name: 0, dtype: int64"
      ]
     },
     "execution_count": 16,
     "metadata": {},
     "output_type": "execute_result"
    }
   ],
   "source": [
    "density = data[0].value_counts().sort_index()"
   ]
  },
  {
   "cell_type": "code",
   "execution_count": 14,
   "metadata": {},
   "outputs": [
    {
     "data": {
      "text/plain": [
       "<matplotlib.axes._subplots.AxesSubplot at 0x7f3a3eddd2e8>"
      ]
     },
     "execution_count": 14,
     "metadata": {},
     "output_type": "execute_result"
    },
    {
     "data": {
      "image/png": "[encoded data removed]",
      "text/plain": [
       "<matplotlib.figure.Figure at 0x7f3a3edd0a20>"
      ]
     },
     "metadata": {},
     "output_type": "display_data"
    }
   ],
   "source": [
    "# log density plot in descending order\n",
    "plt.figure()\n",
    "density.plot(kind='bar')"
   ]
  },
  {
   "cell_type": "code",
   "execution_count": 36,
   "metadata": {
    "collapsed": true
   },
   "outputs": [],
   "source": [
    "data['by_hour'] = data[0] + '-' + data[1].str[0] + data[1].str[1]"
   ]
  },
  {
   "cell_type": "code",
   "execution_count": null,
   "metadata": {
    "collapsed": true
   },
   "outputs": [],
   "source": [
    "for i in range(0,len(data)):\n",
    "    if data['by_hour'].iloc[i].endswith(':'):\n",
    "        data['by_hour'].iloc[i] = data['by_hour'].iloc[i][:-1]"
   ]
  },
  {
   "cell_type": "code",
   "execution_count": 40,
   "metadata": {},
   "outputs": [
    {
     "data": {
      "text/plain": [
       "0           22Dec2015-5:\n",
       "1           22Dec2015-5:\n",
       "2           22Dec2015-5:\n",
       "3           22Dec2015-5:\n",
       "4           22Dec2015-5:\n",
       "5           22Dec2015-5:\n",
       "6           22Dec2015-5:\n",
       "7           22Dec2015-5:\n",
       "8           22Dec2015-5:\n",
       "9           22Dec2015-5:\n",
       "10          22Dec2015-5:\n",
       "11          22Dec2015-5:\n",
       "12          22Dec2015-5:\n",
       "13          22Dec2015-5:\n",
       "14          22Dec2015-5:\n",
       "15          22Dec2015-5:\n",
       "16          22Dec2015-5:\n",
       "17          22Dec2015-5:\n",
       "18          22Dec2015-5:\n",
       "19          22Dec2015-5:\n",
       "20          22Dec2015-5:\n",
       "21          22Dec2015-5:\n",
       "22          22Dec2015-5:\n",
       "23          22Dec2015-5:\n",
       "24          22Dec2015-5:\n",
       "25          22Dec2015-5:\n",
       "26          22Dec2015-5:\n",
       "27          22Dec2015-5:\n",
       "28          22Dec2015-5:\n",
       "29          22Dec2015-5:\n",
       "                ...     \n",
       "48021232     1Jan2016-18\n",
       "48021233     1Jan2016-18\n",
       "48021234     1Jan2016-18\n",
       "48021235     1Jan2016-18\n",
       "48021236     1Jan2016-18\n",
       "48021237     1Jan2016-18\n",
       "48021238     1Jan2016-18\n",
       "48021239     1Jan2016-18\n",
       "48021240     1Jan2016-18\n",
       "48021241     1Jan2016-18\n",
       "48021242     1Jan2016-18\n",
       "48021243     1Jan2016-18\n",
       "48021244     1Jan2016-18\n",
       "48021245     1Jan2016-18\n",
       "48021246     1Jan2016-18\n",
       "48021247     1Jan2016-18\n",
       "48021248     1Jan2016-18\n",
       "48021249     1Jan2016-18\n",
       "48021250     1Jan2016-18\n",
       "48021251     1Jan2016-18\n",
       "48021252     1Jan2016-18\n",
       "48021253     1Jan2016-18\n",
       "48021254     1Jan2016-18\n",
       "48021255     1Jan2016-18\n",
       "48021256     1Jan2016-18\n",
       "48021257     1Jan2016-18\n",
       "48021258     1Jan2016-18\n",
       "48021259     1Jan2016-18\n",
       "48021260     1Jan2016-18\n",
       "48021261     1Jan2016-18\n",
       "Name: by_hour, Length: 48021262, dtype: object"
      ]
     },
     "execution_count": 40,
     "metadata": {},
     "output_type": "execute_result"
    }
   ],
   "source": [
    "data['by_hour']"
   ]
  },
  {
   "cell_type": "code",
   "execution_count": null,
   "metadata": {
    "collapsed": true
   },
   "outputs": [],
   "source": []
  }
 ],
 "metadata": {
  "kernelspec": {
   "display_name": "Python 3",
   "language": "python",
   "name": "python3"
  },
  "language_info": {
   "codemirror_mode": {
    "name": "ipython",
    "version": 3
   },
   "file_extension": ".py",
   "mimetype": "text/x-python",
   "name": "python",
   "nbconvert_exporter": "python",
   "pygments_lexer": "ipython3",
   "version": "3.6.1"
  }
 },
 "nbformat": 4,
 "nbformat_minor": 2
}
